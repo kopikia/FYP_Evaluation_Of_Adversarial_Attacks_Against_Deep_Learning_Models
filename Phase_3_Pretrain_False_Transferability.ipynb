{
 "cells": [
  {
   "cell_type": "markdown",
   "id": "63e47877",
   "metadata": {},
   "source": [
    "# **Adversarial Transferability Analysis using Adversarial Attacks**\n",
    "# **Pretrain=False, 10 epoch**"
   ]
  },
  {
   "cell_type": "markdown",
   "id": "6d416328",
   "metadata": {},
   "source": [
    "## **1. Import Required Libraries**"
   ]
  },
  {
   "cell_type": "code",
   "execution_count": 1,
   "id": "dc5fa854",
   "metadata": {},
   "outputs": [
    {
     "name": "stdout",
     "output_type": "stream",
     "text": [
      "Using device: cpu\n"
     ]
    }
   ],
   "source": [
    "\n",
    "import torch\n",
    "import torch.nn as nn\n",
    "import torch.optim as optim\n",
    "import torchvision\n",
    "import torchvision.transforms as transforms\n",
    "import torchattacks\n",
    "import time\n",
    "import pandas as pd\n",
    "from torchvision import models\n",
    "\n",
    "# Check for GPU\n",
    "device = torch.device(\"cuda\" if torch.cuda.is_available() else \"cpu\")\n",
    "print(f'Using device: {device}')\n"
   ]
  },
  {
   "cell_type": "markdown",
   "id": "8ad5d985",
   "metadata": {},
   "source": [
    "## **2. Load CIFAR-10 Dataset**"
   ]
  },
  {
   "cell_type": "code",
   "execution_count": 2,
   "id": "26c79e5e",
   "metadata": {},
   "outputs": [],
   "source": [
    "\n",
    "# Load CIFAR-10 dataset\n",
    "transform = transforms.Compose([\n",
    "    transforms.Resize((224, 224)),  # Standardizing input size for all models\n",
    "    transforms.ToTensor(),\n",
    "    transforms.Normalize((0.5,), (0.5,))\n",
    "])\n",
    "\n",
    "trainset = torchvision.datasets.CIFAR10(root='./data', train=True, download=True, transform=transform)\n",
    "trainloader = torch.utils.data.DataLoader(trainset, batch_size=64, shuffle=True)\n",
    "\n",
    "testset = torchvision.datasets.CIFAR10(root='./data', train=False, download=True, transform=transform)\n",
    "testloader = torch.utils.data.DataLoader(testset, batch_size=64, shuffle=False)\n"
   ]
  },
  {
   "cell_type": "markdown",
   "id": "0620961e",
   "metadata": {},
   "source": [
    "## **3. Define the Models (VGG-16, ResNet18, EfficientNet-B0)**"
   ]
  },
  {
   "cell_type": "code",
   "execution_count": 3,
   "id": "aec538af",
   "metadata": {},
   "outputs": [
    {
     "name": "stderr",
     "output_type": "stream",
     "text": [
      "c:\\Users\\cheey\\anaconda3\\lib\\site-packages\\torchvision\\models\\_utils.py:208: UserWarning: The parameter 'pretrained' is deprecated since 0.13 and may be removed in the future, please use 'weights' instead.\n",
      "  warnings.warn(\n",
      "c:\\Users\\cheey\\anaconda3\\lib\\site-packages\\torchvision\\models\\_utils.py:223: UserWarning: Arguments other than a weight enum or `None` for 'weights' are deprecated since 0.13 and may be removed in the future. The current behavior is equivalent to passing `weights=None`.\n",
      "  warnings.warn(msg)\n"
     ]
    }
   ],
   "source": [
    "\n",
    "# Define VGG-16 model (Model A)\n",
    "class VGGNet(nn.Module):\n",
    "    def __init__(self):\n",
    "        super(VGGNet, self).__init__()\n",
    "        self.model = models.vgg16(pretrained=False)\n",
    "        num_ftrs = self.model.classifier[6].in_features\n",
    "        self.model.classifier[6] = nn.Linear(num_ftrs, 10)\n",
    "\n",
    "    def forward(self, x):\n",
    "        return self.model(x)\n",
    "\n",
    "# Define ResNet18 model (Model B)\n",
    "class ResNetModel(nn.Module):\n",
    "    def __init__(self):\n",
    "        super(ResNetModel, self).__init__()\n",
    "        self.model = models.resnet18(pretrained=False)\n",
    "        num_ftrs = self.model.fc.in_features\n",
    "        self.model.fc = nn.Linear(num_ftrs, 10)\n",
    "\n",
    "    def forward(self, x):\n",
    "        return self.model(x)\n",
    "\n",
    "# Define EfficientNet-B0 model (Model C)\n",
    "class EfficientNetModel(nn.Module):\n",
    "    def __init__(self):\n",
    "        super(EfficientNetModel, self).__init__()\n",
    "        self.model = models.efficientnet_b0(pretrained=False)\n",
    "        num_ftrs = self.model.classifier[1].in_features\n",
    "        self.model.classifier[1] = nn.Linear(num_ftrs, 10)\n",
    "\n",
    "    def forward(self, x):\n",
    "        return self.model(x)\n",
    "\n",
    "# Initialize models\n",
    "model_A = VGGNet().to(device)\n",
    "model_B = ResNetModel().to(device)\n",
    "model_C = EfficientNetModel().to(device)\n",
    "\n",
    "# Define loss function and optimizer\n",
    "criterion = nn.CrossEntropyLoss()\n",
    "optimizer_A = optim.Adam(model_A.parameters(), lr=0.001)\n",
    "optimizer_B = optim.Adam(model_B.parameters(), lr=0.001)\n",
    "optimizer_C = optim.Adam(model_C.parameters(), lr=0.001)\n"
   ]
  },
  {
   "cell_type": "markdown",
   "id": "34d17ed6",
   "metadata": {},
   "source": [
    "## **4. Train the Models**"
   ]
  },
  {
   "cell_type": "code",
   "execution_count": 27,
   "id": "9c684b3c",
   "metadata": {},
   "outputs": [
    {
     "name": "stdout",
     "output_type": "stream",
     "text": [
      "Training VGG-16...\n",
      "VGG-16 - Epoch 1, Loss: 2.3039\n",
      "VGG-16 - Epoch 2, Loss: 2.3028\n",
      "VGG-16 - Epoch 3, Loss: 2.3028\n",
      "VGG-16 - Epoch 4, Loss: 2.3028\n",
      "VGG-16 - Epoch 5, Loss: 2.3028\n",
      "VGG-16 - Epoch 6, Loss: 2.3028\n",
      "VGG-16 - Epoch 7, Loss: 2.3027\n",
      "VGG-16 - Epoch 8, Loss: 2.3027\n",
      "VGG-16 - Epoch 9, Loss: 2.3028\n",
      "VGG-16 - Epoch 10, Loss: 2.3027\n",
      "Training ResNet18...\n",
      "ResNet18 - Epoch 1, Loss: 1.3502\n",
      "ResNet18 - Epoch 2, Loss: 0.8229\n",
      "ResNet18 - Epoch 3, Loss: 0.6201\n",
      "ResNet18 - Epoch 4, Loss: 0.4930\n",
      "ResNet18 - Epoch 5, Loss: 0.3960\n",
      "ResNet18 - Epoch 6, Loss: 0.3154\n",
      "ResNet18 - Epoch 7, Loss: 0.2412\n",
      "ResNet18 - Epoch 8, Loss: 0.1716\n",
      "ResNet18 - Epoch 9, Loss: 0.1255\n",
      "ResNet18 - Epoch 10, Loss: 0.0966\n",
      "Training EfficientNet-B0...\n",
      "EfficientNet-B0 - Epoch 1, Loss: 1.4462\n",
      "EfficientNet-B0 - Epoch 2, Loss: 0.8668\n",
      "EfficientNet-B0 - Epoch 3, Loss: 0.6305\n",
      "EfficientNet-B0 - Epoch 4, Loss: 0.5064\n",
      "EfficientNet-B0 - Epoch 5, Loss: 0.4180\n",
      "EfficientNet-B0 - Epoch 6, Loss: 0.3491\n",
      "EfficientNet-B0 - Epoch 7, Loss: 0.2987\n",
      "EfficientNet-B0 - Epoch 8, Loss: 0.2542\n",
      "EfficientNet-B0 - Epoch 9, Loss: 0.2195\n",
      "EfficientNet-B0 - Epoch 10, Loss: 0.1886\n"
     ]
    }
   ],
   "source": [
    "\n",
    "# Training function\n",
    "def train_model(model, optimizer, model_name, epochs=10):\n",
    "    model.train()\n",
    "    for epoch in range(epochs):\n",
    "        running_loss = 0.0\n",
    "        for images, labels in trainloader:\n",
    "            images, labels = images.to(device), labels.to(device)\n",
    "            optimizer.zero_grad()\n",
    "            outputs = model(images)\n",
    "            loss = criterion(outputs, labels)\n",
    "            loss.backward()\n",
    "            optimizer.step()\n",
    "            running_loss += loss.item()\n",
    "        \n",
    "        print(f\"{model_name} - Epoch {epoch+1}, Loss: {running_loss/len(trainloader):.4f}\")\n",
    "\n",
    "print(\"Training VGG-16...\")\n",
    "train_model(model_A, optimizer_A, \"VGG-16\")\n",
    "\n",
    "print(\"Training ResNet18...\")\n",
    "train_model(model_B, optimizer_B, \"ResNet18\")\n",
    "\n",
    "print(\"Training EfficientNet-B0...\")\n",
    "train_model(model_C, optimizer_C, \"EfficientNet-B0\")\n"
   ]
  },
  {
   "cell_type": "code",
   "execution_count": 36,
   "id": "59220390",
   "metadata": {},
   "outputs": [],
   "source": [
    "torch.save(model_A,\"model_A.pth\")\n",
    "torch.save(model_B,\"model_B.pth\")\n",
    "torch.save(model_C,\"model_C.pth\")"
   ]
  },
  {
   "cell_type": "code",
   "execution_count": 4,
   "id": "343d61ef",
   "metadata": {},
   "outputs": [
    {
     "name": "stdout",
     "output_type": "stream",
     "text": [
      "Models loaded successfully\n"
     ]
    }
   ],
   "source": [
    "model_A=torch.load(\"model_A.pth\", weights_only=False)\n",
    "model_B=torch.load(\"model_B.pth\", weights_only=False)\n",
    "model_C=torch.load(\"model_C.pth\", weights_only=False)\n",
    "model_A.eval()\n",
    "model_B.eval()\n",
    "model_C.eval()\n",
    "print(\"Models loaded successfully\")"
   ]
  },
  {
   "cell_type": "markdown",
   "id": "baeb6815",
   "metadata": {},
   "source": [
    "## **5. Evaluate Model Accuracy on Clean Test Images**"
   ]
  },
  {
   "cell_type": "code",
   "execution_count": 30,
   "id": "ab2c11c0",
   "metadata": {},
   "outputs": [
    {
     "name": "stdout",
     "output_type": "stream",
     "text": [
      "VGG-16 Accuracy on clean test images: 10.00%\n",
      "ResNet18 Accuracy on clean test images: 83.33%\n",
      "EfficientNet-B0 Accuracy on clean test images: 87.77%\n"
     ]
    }
   ],
   "source": [
    "\n",
    "# Evaluation function\n",
    "def test_model(model, dataloader, model_name):\n",
    "    model.eval()\n",
    "    correct = 0\n",
    "    total = 0\n",
    "    with torch.no_grad():\n",
    "        for images, labels in dataloader:\n",
    "            images, labels = images.to(device), labels.to(device)\n",
    "            outputs = model(images)\n",
    "            _, predicted = torch.max(outputs.data, 1)\n",
    "            total += labels.size(0)\n",
    "            correct += (predicted == labels).sum().item()\n",
    "    \n",
    "    accuracy = 100 * correct / total\n",
    "    print(f'{model_name} Accuracy on clean test images: {accuracy:.2f}%')\n",
    "    return accuracy\n",
    "\n",
    "clean_accuracy_A = test_model(model_A, testloader, \"VGG-16\")\n",
    "clean_accuracy_B = test_model(model_B, testloader, \"ResNet18\")\n",
    "clean_accuracy_C = test_model(model_C, testloader, \"EfficientNet-B0\")\n"
   ]
  },
  {
   "cell_type": "markdown",
   "id": "108928d6",
   "metadata": {},
   "source": [
    "## **6. Apply FGSM Attack and Test Transferability**\n",
    "## 6.1 Applying attack to Model A (VGG-16)"
   ]
  },
  {
   "cell_type": "code",
   "execution_count": 7,
   "id": "f50a18c6",
   "metadata": {},
   "outputs": [],
   "source": [
    "# Function to generate adversarial examples for Model X\n",
    "def generate_adversarial_examples(model, attack):\n",
    "    model.eval()\n",
    "    adv_examples = []\n",
    "    original_labels = []\n",
    "    \n",
    "    for images, labels in testloader:\n",
    "        images, labels = images.to(device), labels.to(device)\n",
    "\n",
    "        adv_images = attack(images, labels).detach().cpu()\n",
    "        torch.cuda.empty_cache()\n",
    "        \n",
    "        adv_examples.append(adv_images)\n",
    "        original_labels.append(labels.cpu())\n",
    "\n",
    "    return torch.cat(adv_examples), torch.cat(original_labels)"
   ]
  },
  {
   "cell_type": "code",
   "execution_count": 8,
   "id": "dd17cb3a",
   "metadata": {},
   "outputs": [
    {
     "data": {
      "text/plain": [
       "9"
      ]
     },
     "execution_count": 8,
     "metadata": {},
     "output_type": "execute_result"
    }
   ],
   "source": [
    "import gc\n",
    "torch.cuda.empty_cache()\n",
    "gc.collect()"
   ]
  },
  {
   "cell_type": "code",
   "execution_count": 9,
   "id": "a053a54c",
   "metadata": {},
   "outputs": [],
   "source": [
    "# Apply FGSM attack to Model A (VGG-16)\n",
    "fgsm_attack = torchattacks.FGSM(model_A, eps=0.03)\n",
    "adv_examples_A, labels_A = generate_adversarial_examples(model_A, fgsm_attack)"
   ]
  },
  {
   "cell_type": "code",
   "execution_count": 10,
   "id": "fefcf34b",
   "metadata": {},
   "outputs": [],
   "source": [
    "# Function to evaluate adversarial success rate on different models\n",
    "def evaluate_transferability(model, adv_examples, labels, model_name):\n",
    "    model.eval()\n",
    "    correct = 0\n",
    "    total = 0\n",
    "    \n",
    "    with torch.no_grad():\n",
    "        for i in range(0, len(adv_examples), 16):  # Process batch of 16 images at a time\n",
    "            batch_images = adv_examples[i:i+16].to(device)\n",
    "            batch_labels = labels[i:i+16].to(device)\n",
    "\n",
    "            outputs = model(batch_images)\n",
    "            _, predicted = torch.max(outputs.data, 1)\n",
    "            correct += (predicted == batch_labels).sum().item()\n",
    "            total += batch_labels.size(0)\n",
    "            \n",
    "            torch.cuda.empty_cache()  # Free up memory\n",
    "\n",
    "    transfer_success_rate = 100 * (1 - correct / total)\n",
    "    print(f'Transfer Success Rate on {model_name}: {transfer_success_rate:.2f}%')\n",
    "    return transfer_success_rate"
   ]
  },
  {
   "cell_type": "code",
   "execution_count": 11,
   "id": "7e6e956f",
   "metadata": {},
   "outputs": [
    {
     "name": "stdout",
     "output_type": "stream",
     "text": [
      "Transfer Success Rate on VGG-16: 90.00%\n",
      "Transfer Success Rate on ResNet18: 52.03%\n",
      "Transfer Success Rate on EfficientNet-B0: 50.72%\n"
     ]
    }
   ],
   "source": [
    "transfer_A_to_A = evaluate_transferability(model_A, adv_examples_A, labels_A, \"VGG-16\")\n",
    "transfer_A_to_B = evaluate_transferability(model_B, adv_examples_A, labels_A, \"ResNet18\")\n",
    "transfer_A_to_C = evaluate_transferability(model_C, adv_examples_A, labels_A, \"EfficientNet-B0\")"
   ]
  },
  {
   "cell_type": "code",
   "execution_count": 12,
   "id": "b4751c16",
   "metadata": {},
   "outputs": [
    {
     "name": "stdout",
     "output_type": "stream",
     "text": [
      "Transferability Matrix:\n",
      "                          VGG-16 (A) ResNet18 (B) EfficientNet-B0 (C)\n",
      "From VGG-16 (A)                90.00            -                   -\n",
      "From ResNet18 (B)              52.03            -                   -\n",
      "From EfficientNet-B0 (C)       50.72            -                   -\n"
     ]
    }
   ],
   "source": [
    "# Create transferability matrix\n",
    "transfer_matrix = pd.DataFrame({\n",
    "    \"VGG-16 (A)\": [transfer_A_to_A, transfer_A_to_B, transfer_A_to_C],\n",
    "    \"ResNet18 (B)\": [\"-\", \"-\", \"-\"],  \n",
    "    \"EfficientNet-B0 (C)\": [\"-\", \"-\", \"-\"]\n",
    "}, index=[\"From VGG-16 (A)\", \"From ResNet18 (B)\", \"From EfficientNet-B0 (C)\"])\n",
    "\n",
    "print(\"Transferability Matrix:\")\n",
    "print(transfer_matrix)"
   ]
  },
  {
   "cell_type": "markdown",
   "id": "e79f6c6b",
   "metadata": {},
   "source": [
    "## 6.2 Applying attack to Model B (ResNet18)"
   ]
  },
  {
   "cell_type": "code",
   "execution_count": 14,
   "id": "021ae5ea",
   "metadata": {},
   "outputs": [
    {
     "data": {
      "text/plain": [
       "197"
      ]
     },
     "execution_count": 14,
     "metadata": {},
     "output_type": "execute_result"
    }
   ],
   "source": [
    "torch.cuda.empty_cache()\n",
    "gc.collect()"
   ]
  },
  {
   "cell_type": "code",
   "execution_count": 15,
   "id": "5e452f7d",
   "metadata": {},
   "outputs": [],
   "source": [
    "# Apply FGSM attack to Model B (ResNet18)\n",
    "fgsm_attack = torchattacks.FGSM(model_B, eps=0.03)\n",
    "adv_examples_B, labels_B = generate_adversarial_examples(model_B, fgsm_attack)"
   ]
  },
  {
   "cell_type": "code",
   "execution_count": 17,
   "id": "a2b34c85",
   "metadata": {},
   "outputs": [
    {
     "name": "stdout",
     "output_type": "stream",
     "text": [
      "Transfer Success Rate on VGG-16: 90.00%\n",
      "Transfer Success Rate on ResNet18: 89.22%\n",
      "Transfer Success Rate on EfficientNet-B0: 68.24%\n"
     ]
    }
   ],
   "source": [
    "transfer_B_to_A = evaluate_transferability(model_A, adv_examples_B, labels_B, \"VGG-16\")\n",
    "transfer_B_to_B = evaluate_transferability(model_B, adv_examples_B, labels_B, \"ResNet18\")\n",
    "transfer_B_to_C = evaluate_transferability(model_C, adv_examples_B, labels_B, \"EfficientNet-B0\")"
   ]
  },
  {
   "cell_type": "code",
   "execution_count": 18,
   "id": "1e90c0ea",
   "metadata": {},
   "outputs": [
    {
     "name": "stdout",
     "output_type": "stream",
     "text": [
      "Transferability Matrix:\n",
      "                          VGG-16 (A)  ResNet18 (B) EfficientNet-B0 (C)\n",
      "From VGG-16 (A)                90.00         90.00                   -\n",
      "From ResNet18 (B)              52.03         89.22                   -\n",
      "From EfficientNet-B0 (C)       50.72         68.24                   -\n"
     ]
    }
   ],
   "source": [
    "# Create transferability matrix\n",
    "transfer_matrix = pd.DataFrame({\n",
    "    \"VGG-16 (A)\": [transfer_A_to_A, transfer_A_to_B, transfer_A_to_C],\n",
    "    \"ResNet18 (B)\": [transfer_B_to_A, transfer_B_to_B, transfer_B_to_C],  \n",
    "    \"EfficientNet-B0 (C)\": [\"-\", \"-\", \"-\"]\n",
    "}, index=[\"From VGG-16 (A)\", \"From ResNet18 (B)\", \"From EfficientNet-B0 (C)\"])\n",
    "\n",
    "print(\"Transferability Matrix:\")\n",
    "print(transfer_matrix)"
   ]
  },
  {
   "cell_type": "markdown",
   "id": "e271d0ea",
   "metadata": {},
   "source": [
    "## 6.3 Applying attack to Model C (EfficientNet-B0)"
   ]
  },
  {
   "cell_type": "code",
   "execution_count": 19,
   "id": "62b10dfe",
   "metadata": {},
   "outputs": [
    {
     "data": {
      "text/plain": [
       "463"
      ]
     },
     "execution_count": 19,
     "metadata": {},
     "output_type": "execute_result"
    }
   ],
   "source": [
    "torch.cuda.empty_cache()\n",
    "gc.collect()"
   ]
  },
  {
   "cell_type": "code",
   "execution_count": 20,
   "id": "f65a8fd1",
   "metadata": {},
   "outputs": [],
   "source": [
    "# Apply FGSM attack to Model C (EfficientNet-B0)\n",
    "fgsm_attack = torchattacks.FGSM(model_C, eps=0.03)\n",
    "adv_examples_C, labels_C = generate_adversarial_examples(model_C, fgsm_attack)"
   ]
  },
  {
   "cell_type": "code",
   "execution_count": 21,
   "id": "441ce806",
   "metadata": {},
   "outputs": [
    {
     "name": "stdout",
     "output_type": "stream",
     "text": [
      "Transfer Success Rate on VGG-16: 90.00%\n",
      "Transfer Success Rate on ResNet18: 65.31%\n",
      "Transfer Success Rate on EfficientNet-B0: 90.62%\n"
     ]
    }
   ],
   "source": [
    "transfer_C_to_A = evaluate_transferability(model_A, adv_examples_C, labels_C, \"VGG-16\")\n",
    "transfer_C_to_B = evaluate_transferability(model_B, adv_examples_C, labels_C, \"ResNet18\")\n",
    "transfer_C_to_C = evaluate_transferability(model_C, adv_examples_C, labels_C, \"EfficientNet-B0\")"
   ]
  },
  {
   "cell_type": "code",
   "execution_count": 22,
   "id": "08721b49",
   "metadata": {},
   "outputs": [
    {
     "name": "stdout",
     "output_type": "stream",
     "text": [
      "Transferability Matrix:\n",
      "                          VGG-16 (A)  ResNet18 (B)  EfficientNet-B0 (C)\n",
      "From VGG-16 (A)                90.00         90.00                90.00\n",
      "From ResNet18 (B)              52.03         89.22                65.31\n",
      "From EfficientNet-B0 (C)       50.72         68.24                90.62\n"
     ]
    }
   ],
   "source": [
    "# Create transferability matrix\n",
    "transfer_matrix = pd.DataFrame({\n",
    "    \"VGG-16 (A)\": [transfer_A_to_A, transfer_A_to_B, transfer_A_to_C],\n",
    "    \"ResNet18 (B)\": [transfer_B_to_A, transfer_B_to_B, transfer_B_to_C],  \n",
    "    \"EfficientNet-B0 (C)\": [transfer_C_to_A, transfer_C_to_B, transfer_C_to_C]\n",
    "}, index=[\"From VGG-16 (A)\", \"From ResNet18 (B)\", \"From EfficientNet-B0 (C)\"])\n",
    "\n",
    "print(\"Transferability Matrix:\")\n",
    "print(transfer_matrix)"
   ]
  },
  {
   "cell_type": "markdown",
   "id": "08a1dc75",
   "metadata": {},
   "source": [
    "## **7. Final Transferability Summary Table**"
   ]
  },
  {
   "cell_type": "code",
   "execution_count": 23,
   "id": "9d268833",
   "metadata": {},
   "outputs": [
    {
     "name": "stdout",
     "output_type": "stream",
     "text": [
      "Transferability Matrix:\n",
      "                          VGG-16 (A)  ResNet18 (B)  EfficientNet-B0 (C)\n",
      "From VGG-16 (A)                90.00         90.00                90.00\n",
      "From ResNet18 (B)              52.03         89.22                65.31\n",
      "From EfficientNet-B0 (C)       50.72         68.24                90.62\n"
     ]
    }
   ],
   "source": [
    "print(\"Transferability Matrix:\")\n",
    "print(transfer_matrix)"
   ]
  }
 ],
 "metadata": {
  "kernelspec": {
   "display_name": "base",
   "language": "python",
   "name": "python3"
  },
  "language_info": {
   "codemirror_mode": {
    "name": "ipython",
    "version": 3
   },
   "file_extension": ".py",
   "mimetype": "text/x-python",
   "name": "python",
   "nbconvert_exporter": "python",
   "pygments_lexer": "ipython3",
   "version": "3.9.7"
  }
 },
 "nbformat": 4,
 "nbformat_minor": 5
}
