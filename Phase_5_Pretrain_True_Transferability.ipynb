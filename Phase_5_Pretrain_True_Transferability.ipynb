{
 "cells": [
  {
   "cell_type": "markdown",
   "id": "a1ebc110",
   "metadata": {
    "id": "a1ebc110"
   },
   "source": [
    "# **Adversarial Robustness of VGG-16, ResNet18, and EfficientNet-B0 on CIFAR-10**\n",
    "# **Pretrain=True, 30 epoch**"
   ]
  },
  {
   "cell_type": "markdown",
   "id": "1104a876-baeb-4f42-aade-c636c74b5537",
   "metadata": {},
   "source": [
    "# "
   ]
  },
  {
   "cell_type": "markdown",
   "id": "6fbb12e1",
   "metadata": {
    "id": "6fbb12e1"
   },
   "source": [
    "## **1. Import Required Libraries**"
   ]
  },
  {
   "cell_type": "code",
   "execution_count": 1,
   "id": "Bje--5beHvEU",
   "metadata": {
    "colab": {
     "base_uri": "https://localhost:8080/"
    },
    "id": "Bje--5beHvEU",
    "outputId": "cd17869f-5bb4-4d56-ff4d-f4f30e4f2c33"
   },
   "outputs": [
    {
     "name": "stdout",
     "output_type": "stream",
     "text": [
      "True\n",
      "NVIDIA GeForce RTX 4060\n"
     ]
    }
   ],
   "source": [
    "import torch\n",
    "print(torch.cuda.is_available())  # Should return True if GPU is available\n",
    "print(torch.cuda.get_device_name(0))  # Should print the name of your GPU"
   ]
  },
  {
   "cell_type": "code",
   "execution_count": 2,
   "id": "ed4076d8",
   "metadata": {
    "colab": {
     "base_uri": "https://localhost:8080/"
    },
    "id": "ed4076d8",
    "outputId": "1a1b4f65-4aee-459f-ef66-ed644ae2eb8e"
   },
   "outputs": [
    {
     "name": "stdout",
     "output_type": "stream",
     "text": [
      "Using device: cuda\n"
     ]
    }
   ],
   "source": [
    "\n",
    "import torch\n",
    "import torch.nn as nn\n",
    "import torch.optim as optim\n",
    "import torchvision\n",
    "import torchvision.transforms as transforms\n",
    "import torchattacks\n",
    "import time\n",
    "import pandas as pd\n",
    "from torchvision import models\n",
    "\n",
    "# Check for GPU\n",
    "device = torch.device(\"cuda\" if torch.cuda.is_available() else \"cpu\")\n",
    "print(f'Using device: {device}')\n"
   ]
  },
  {
   "cell_type": "markdown",
   "id": "dea1e791",
   "metadata": {
    "id": "dea1e791"
   },
   "source": [
    "## **2. Load CIFAR-10 Dataset**"
   ]
  },
  {
   "cell_type": "code",
   "execution_count": 3,
   "id": "22c6b1ea",
   "metadata": {
    "id": "22c6b1ea"
   },
   "outputs": [],
   "source": [
    "\n",
    "# Load CIFAR-10 dataset\n",
    "transform = transforms.Compose([\n",
    "    transforms.Resize((224, 224)),  # Resize for model compatibility\n",
    "    transforms.ToTensor(),\n",
    "    transforms.Normalize((0.5,), (0.5,))\n",
    "])\n",
    "\n",
    "trainset = torchvision.datasets.CIFAR10(root='./data', train=True, download=True, transform=transform)\n",
    "trainloader = torch.utils.data.DataLoader(trainset, batch_size=64, shuffle=True)\n",
    "\n",
    "testset = torchvision.datasets.CIFAR10(root='./data', train=False, download=True, transform=transform)\n",
    "testloader = torch.utils.data.DataLoader(testset, batch_size=64, shuffle=False)\n"
   ]
  },
  {
   "cell_type": "markdown",
   "id": "23d6c6cc",
   "metadata": {},
   "source": [
    "# **3. Defining Models From torchvision**"
   ]
  },
  {
   "cell_type": "markdown",
   "id": "6e5c1034",
   "metadata": {
    "id": "6e5c1034"
   },
   "source": [
    "## **3.1 Define VGG-16 Model**"
   ]
  },
  {
   "cell_type": "code",
   "execution_count": 4,
   "id": "981ae432",
   "metadata": {
    "colab": {
     "base_uri": "https://localhost:8080/"
    },
    "id": "981ae432",
    "outputId": "4bf5473f-be48-46a0-dcf1-02e687ba93a3"
   },
   "outputs": [],
   "source": [
    "\n",
    "# Load pre-defined VGG-16 model from torchvision\n",
    "class VGG16(nn.Module):\n",
    "    def __init__(self):\n",
    "        super(VGG16, self).__init__()\n",
    "        self.model = models.vgg16(pretrained=True)\n",
    "        num_ftrs = self.model.classifier[6].in_features\n",
    "        self.model.classifier[6] = nn.Linear(num_ftrs, 10)  # Adjust for CIFAR-10 classes\n",
    "\n",
    "    def forward(self, x):\n",
    "        return self.model(x)\n"
   ]
  },
  {
   "cell_type": "markdown",
   "id": "95a81f2b",
   "metadata": {
    "id": "95a81f2b"
   },
   "source": [
    "## **3.2 Define ResNet18 Model**"
   ]
  },
  {
   "cell_type": "code",
   "execution_count": 5,
   "id": "73dd9b80",
   "metadata": {
    "id": "73dd9b80"
   },
   "outputs": [],
   "source": [
    "\n",
    "# Load pre-defined ResNet18 model from torchvision\n",
    "class ResNet18(nn.Module):\n",
    "    def __init__(self):\n",
    "        super(ResNet18, self).__init__()\n",
    "        self.model = models.resnet18(pretrained=True)\n",
    "        num_ftrs = self.model.fc.in_features\n",
    "        self.model.fc = nn.Linear(num_ftrs, 10)  # Adjust for CIFAR-10 classes\n",
    "\n",
    "    def forward(self, x):\n",
    "        return self.model(x)\n"
   ]
  },
  {
   "cell_type": "markdown",
   "id": "981c82d4",
   "metadata": {
    "id": "981c82d4"
   },
   "source": [
    "## **3.3 Define EfficientNet-B0 Model**"
   ]
  },
  {
   "cell_type": "code",
   "execution_count": 6,
   "id": "5e4a2902",
   "metadata": {
    "id": "5e4a2902"
   },
   "outputs": [],
   "source": [
    "\n",
    "# Load pre-defined EfficientNet-B0 model from torchvision\n",
    "class EfficientNetB0(nn.Module):\n",
    "    def __init__(self):\n",
    "        super(EfficientNetB0, self).__init__()\n",
    "        self.model = models.efficientnet_b0(pretrained=True)\n",
    "        num_ftrs = self.model.classifier[1].in_features\n",
    "        self.model.classifier[1] = nn.Linear(num_ftrs, 10)  # Adjust for CIFAR-10 classes\n",
    "\n",
    "    def forward(self, x):\n",
    "        return self.model(x)\n",
    "\n"
   ]
  },
  {
   "cell_type": "code",
   "execution_count": 7,
   "id": "ec0457e8-dc0b-4315-a3a4-5fa6942b8a9b",
   "metadata": {},
   "outputs": [
    {
     "name": "stderr",
     "output_type": "stream",
     "text": [
      "c:\\Users\\cheey\\anaconda3\\lib\\site-packages\\torchvision\\models\\_utils.py:208: UserWarning: The parameter 'pretrained' is deprecated since 0.13 and may be removed in the future, please use 'weights' instead.\n",
      "  warnings.warn(\n",
      "c:\\Users\\cheey\\anaconda3\\lib\\site-packages\\torchvision\\models\\_utils.py:223: UserWarning: Arguments other than a weight enum or `None` for 'weights' are deprecated since 0.13 and may be removed in the future. The current behavior is equivalent to passing `weights=VGG16_Weights.IMAGENET1K_V1`. You can also use `weights=VGG16_Weights.DEFAULT` to get the most up-to-date weights.\n",
      "  warnings.warn(msg)\n",
      "c:\\Users\\cheey\\anaconda3\\lib\\site-packages\\torchvision\\models\\_utils.py:223: UserWarning: Arguments other than a weight enum or `None` for 'weights' are deprecated since 0.13 and may be removed in the future. The current behavior is equivalent to passing `weights=ResNet18_Weights.IMAGENET1K_V1`. You can also use `weights=ResNet18_Weights.DEFAULT` to get the most up-to-date weights.\n",
      "  warnings.warn(msg)\n",
      "c:\\Users\\cheey\\anaconda3\\lib\\site-packages\\torchvision\\models\\_utils.py:223: UserWarning: Arguments other than a weight enum or `None` for 'weights' are deprecated since 0.13 and may be removed in the future. The current behavior is equivalent to passing `weights=EfficientNet_B0_Weights.IMAGENET1K_V1`. You can also use `weights=EfficientNet_B0_Weights.DEFAULT` to get the most up-to-date weights.\n",
      "  warnings.warn(msg)\n"
     ]
    }
   ],
   "source": [
    "# Initialize models\n",
    "model_vgg = VGG16().to(device)\n",
    "model_resnet = ResNet18().to(device)\n",
    "model_efficient = EfficientNetB0().to(device)\n",
    "\n",
    "# Define loss function and optimizers\n",
    "criterion = nn.CrossEntropyLoss()\n",
    "optimizer_vgg = optim.Adam(model_vgg.parameters(), lr=0.001)\n",
    "optimizer_resnet = optim.Adam(model_resnet.parameters(), lr=0.001)\n",
    "optimizer_efficient = optim.Adam(model_efficient.parameters(), lr=0.001)"
   ]
  },
  {
   "cell_type": "code",
   "execution_count": 8,
   "id": "31d08ea1-a64e-47ba-b49f-b7b0e7ab8d2f",
   "metadata": {},
   "outputs": [
    {
     "name": "stdout",
     "output_type": "stream",
     "text": [
      "Models loaded successfully\n"
     ]
    }
   ],
   "source": [
    "model_vgg=torch.load(\"model_vgg_30.pth\", weights_only=False)\n",
    "model_resnet=torch.load(\"model_resnet_30.pth\", weights_only=False)\n",
    "model_efficient=torch.load(\"model_efficient_30.pth\", weights_only=False)\n",
    "model_vgg.eval()\n",
    "model_resnet.eval()\n",
    "model_efficient.eval()\n",
    "print(\"Models loaded successfully\")"
   ]
  },
  {
   "cell_type": "markdown",
   "id": "8d661fd8",
   "metadata": {},
   "source": [
    "## **4. Testing Transferability**"
   ]
  },
  {
   "cell_type": "code",
   "execution_count": 9,
   "id": "8c85be96",
   "metadata": {},
   "outputs": [],
   "source": [
    "# Function to generate adversarial examples for Model X\n",
    "def generate_adversarial_examples(model, attack):\n",
    "    model.eval()\n",
    "    adv_examples = []\n",
    "    original_labels = []\n",
    "    \n",
    "    for images, labels in testloader:\n",
    "        images, labels = images.to(device), labels.to(device)\n",
    "\n",
    "        adv_images = attack(images, labels).detach().cpu()\n",
    "        torch.cuda.empty_cache()\n",
    "        \n",
    "        adv_examples.append(adv_images)\n",
    "        original_labels.append(labels.cpu())\n",
    "\n",
    "    return torch.cat(adv_examples), torch.cat(original_labels)"
   ]
  },
  {
   "cell_type": "code",
   "execution_count": 10,
   "id": "9ba240c0",
   "metadata": {},
   "outputs": [],
   "source": [
    "# Function to evaluate adversarial success rate on different models\n",
    "def evaluate_transferability(model, adv_examples, labels, model_name):\n",
    "    model.eval()\n",
    "    correct = 0\n",
    "    total = 0\n",
    "    \n",
    "    with torch.no_grad():\n",
    "        for i in range(0, len(adv_examples), 16):  # Process batch of 16 images at a time\n",
    "            batch_images = adv_examples[i:i+16].to(device)\n",
    "            batch_labels = labels[i:i+16].to(device)\n",
    "\n",
    "            outputs = model(batch_images)\n",
    "            _, predicted = torch.max(outputs.data, 1)\n",
    "            correct += (predicted == batch_labels).sum().item()\n",
    "            total += batch_labels.size(0)\n",
    "            \n",
    "            torch.cuda.empty_cache()  # Free up memory\n",
    "\n",
    "    transfer_success_rate = 100 * (1 - correct / total)\n",
    "    print(f'Transfer Success Rate on {model_name}: {transfer_success_rate:.2f}%')\n",
    "    return transfer_success_rate"
   ]
  },
  {
   "cell_type": "markdown",
   "id": "9fbe2325",
   "metadata": {},
   "source": [
    "# **4.1.1 Use FGSM to attack VGG-16 to create adversarial samples**"
   ]
  },
  {
   "cell_type": "code",
   "execution_count": null,
   "id": "ea03a389",
   "metadata": {},
   "outputs": [],
   "source": [
    "# Apply FGSM attack to VGG-16\n",
    "fgsm_attack = torchattacks.FGSM(model_vgg, eps=0.03)\n",
    "adv_examples_vgg, labels_vgg = generate_adversarial_examples(model_vgg, fgsm_attack)"
   ]
  },
  {
   "cell_type": "code",
   "execution_count": 12,
   "id": "d6d4ea75",
   "metadata": {},
   "outputs": [
    {
     "name": "stdout",
     "output_type": "stream",
     "text": [
      "Transfer Success Rate on VGG-16: 69.16%\n",
      "Transfer Success Rate on ResNet18: 46.38%\n",
      "Transfer Success Rate on EfficientNet-B0: 57.40%\n"
     ]
    }
   ],
   "source": [
    "transfer_A_to_A = evaluate_transferability(model_vgg, adv_examples_vgg, labels_vgg, \"VGG-16\")\n",
    "transfer_A_to_B = evaluate_transferability(model_resnet, adv_examples_vgg, labels_vgg, \"ResNet18\")\n",
    "transfer_A_to_C = evaluate_transferability(model_efficient, adv_examples_vgg, labels_vgg, \"EfficientNet-B0\")"
   ]
  },
  {
   "cell_type": "code",
   "execution_count": 13,
   "id": "065fef6b",
   "metadata": {},
   "outputs": [
    {
     "name": "stdout",
     "output_type": "stream",
     "text": [
      "Transferability Matrix:\n",
      "                          VGG-16 (A) ResNet18 (B) EfficientNet-B0 (C)\n",
      "From VGG-16 (A)                69.16            -                   -\n",
      "From ResNet18 (B)              46.38            -                   -\n",
      "From EfficientNet-B0 (C)       57.40            -                   -\n"
     ]
    }
   ],
   "source": [
    "# Create transferability matrix\n",
    "transfer_matrix = pd.DataFrame({\n",
    "    \"VGG-16 (A)\": [transfer_A_to_A, transfer_A_to_B, transfer_A_to_C],\n",
    "    \"ResNet18 (B)\": [\"-\", \"-\", \"-\"],  \n",
    "    \"EfficientNet-B0 (C)\": [\"-\", \"-\", \"-\"]\n",
    "}, index=[\"From VGG-16 (A)\", \"From ResNet18 (B)\", \"From EfficientNet-B0 (C)\"])\n",
    "\n",
    "print(\"Transferability Matrix:\")\n",
    "print(transfer_matrix)"
   ]
  },
  {
   "cell_type": "markdown",
   "id": "5e6a99e8",
   "metadata": {},
   "source": [
    "# **4.1.2 Use FGSM to attack ResNet18 to create adversarial samples**"
   ]
  },
  {
   "cell_type": "markdown",
   "id": "0493823a",
   "metadata": {},
   "source": [
    "torch.cuda.empty_cache()\n",
    "gc.collect()"
   ]
  },
  {
   "cell_type": "code",
   "execution_count": null,
   "id": "6216edbf",
   "metadata": {},
   "outputs": [],
   "source": [
    "# Apply FGSM attack to ResNet18\n",
    "fgsm_attack = torchattacks.FGSM(model_resnet, eps=0.03)\n",
    "adv_examples_resnet, labels_resnet = generate_adversarial_examples(model_resnet, fgsm_attack)"
   ]
  },
  {
   "cell_type": "code",
   "execution_count": 15,
   "id": "4e9cb17f",
   "metadata": {},
   "outputs": [
    {
     "name": "stdout",
     "output_type": "stream",
     "text": [
      "Transfer Success Rate on VGG-16: 64.63%\n",
      "Transfer Success Rate on ResNet18: 77.87%\n",
      "Transfer Success Rate on EfficientNet-B0: 58.98%\n"
     ]
    }
   ],
   "source": [
    "transfer_B_to_A = evaluate_transferability(model_vgg, adv_examples_resnet, labels_resnet, \"VGG-16\")\n",
    "transfer_B_to_B = evaluate_transferability(model_resnet, adv_examples_resnet, labels_resnet, \"ResNet18\")\n",
    "transfer_B_to_C = evaluate_transferability(model_efficient, adv_examples_resnet, labels_resnet, \"EfficientNet-B0\")"
   ]
  },
  {
   "cell_type": "code",
   "execution_count": 16,
   "id": "cd548a69",
   "metadata": {},
   "outputs": [
    {
     "name": "stdout",
     "output_type": "stream",
     "text": [
      "Transferability Matrix:\n",
      "                          VGG-16 (A)  ResNet18 (B) EfficientNet-B0 (C)\n",
      "From VGG-16 (A)                69.16         64.63                   -\n",
      "From ResNet18 (B)              46.38         77.87                   -\n",
      "From EfficientNet-B0 (C)       57.40         58.98                   -\n"
     ]
    }
   ],
   "source": [
    "# Create transferability matrix\n",
    "transfer_matrix = pd.DataFrame({\n",
    "    \"VGG-16 (A)\": [transfer_A_to_A, transfer_A_to_B, transfer_A_to_C],\n",
    "    \"ResNet18 (B)\": [transfer_B_to_A, transfer_B_to_B, transfer_B_to_C],  \n",
    "    \"EfficientNet-B0 (C)\": [\"-\", \"-\", \"-\"]\n",
    "}, index=[\"From VGG-16 (A)\", \"From ResNet18 (B)\", \"From EfficientNet-B0 (C)\"])\n",
    "\n",
    "print(\"Transferability Matrix:\")\n",
    "print(transfer_matrix)"
   ]
  },
  {
   "cell_type": "markdown",
   "id": "89b99280",
   "metadata": {},
   "source": [
    "# **4.1.3 Use FGSM to attack EfficientNet-B0 to create adversarial samples**"
   ]
  },
  {
   "cell_type": "code",
   "execution_count": null,
   "id": "5daba640",
   "metadata": {},
   "outputs": [],
   "source": [
    "# Apply FGSM attack to EfficientNet-B0\n",
    "fgsm_attack = torchattacks.FGSM(model_efficient, eps=0.03)\n",
    "adv_examples_efficient, labels_efficient = generate_adversarial_examples(model_efficient, fgsm_attack)"
   ]
  },
  {
   "cell_type": "code",
   "execution_count": 18,
   "id": "3f0dd347",
   "metadata": {},
   "outputs": [
    {
     "name": "stdout",
     "output_type": "stream",
     "text": [
      "Transfer Success Rate on VGG-16: 55.38%\n",
      "Transfer Success Rate on ResNet18: 45.81%\n",
      "Transfer Success Rate on EfficientNet-B0: 80.13%\n"
     ]
    }
   ],
   "source": [
    "transfer_C_to_A = evaluate_transferability(model_vgg, adv_examples_efficient, labels_efficient, \"VGG-16\")\n",
    "transfer_C_to_B = evaluate_transferability(model_resnet, adv_examples_efficient, labels_efficient, \"ResNet18\")\n",
    "transfer_C_to_C = evaluate_transferability(model_efficient, adv_examples_efficient, labels_efficient, \"EfficientNet-B0\")"
   ]
  },
  {
   "cell_type": "code",
   "execution_count": 19,
   "id": "ddb6abfb",
   "metadata": {},
   "outputs": [
    {
     "name": "stdout",
     "output_type": "stream",
     "text": [
      "Transferability Matrix:\n",
      "                          VGG-16 (A)  ResNet18 (B)  EfficientNet-B0 (C)\n",
      "From VGG-16 (A)                69.16         64.63                55.38\n",
      "From ResNet18 (B)              46.38         77.87                45.81\n",
      "From EfficientNet-B0 (C)       57.40         58.98                80.13\n"
     ]
    }
   ],
   "source": [
    "# Create transferability matrix\n",
    "transfer_matrix = pd.DataFrame({\n",
    "    \"VGG-16 (A)\": [transfer_A_to_A, transfer_A_to_B, transfer_A_to_C],\n",
    "    \"ResNet18 (B)\": [transfer_B_to_A, transfer_B_to_B, transfer_B_to_C],  \n",
    "    \"EfficientNet-B0 (C)\": [transfer_C_to_A, transfer_C_to_B, transfer_C_to_C]\n",
    "}, index=[\"From VGG-16 (A)\", \"From ResNet18 (B)\", \"From EfficientNet-B0 (C)\"])\n",
    "\n",
    "print(\"Transferability Matrix:\")\n",
    "print(transfer_matrix)"
   ]
  },
  {
   "cell_type": "markdown",
   "id": "9c6b31da",
   "metadata": {},
   "source": [
    "# **4.2.1 Use PGD to attack VGG16 to create adversarial samples**"
   ]
  },
  {
   "cell_type": "code",
   "execution_count": 11,
   "id": "5cb05838",
   "metadata": {},
   "outputs": [
    {
     "data": {
      "text/plain": [
       "18"
      ]
     },
     "execution_count": 11,
     "metadata": {},
     "output_type": "execute_result"
    }
   ],
   "source": [
    "import gc\n",
    "torch.cuda.empty_cache()\n",
    "gc.collect()"
   ]
  },
  {
   "cell_type": "code",
   "execution_count": 12,
   "id": "306e661b",
   "metadata": {},
   "outputs": [],
   "source": [
    "# Apply PGD attack to VGG-16\n",
    "pgd_attack = torchattacks.PGD(model_vgg, eps=0.03, alpha=0.01, steps=40)\n",
    "adv_examples_vgg, labels_vgg = generate_adversarial_examples(model_vgg, pgd_attack)"
   ]
  },
  {
   "cell_type": "code",
   "execution_count": 13,
   "id": "5f531f24",
   "metadata": {},
   "outputs": [
    {
     "name": "stdout",
     "output_type": "stream",
     "text": [
      "Transfer Success Rate on VGG-16: 99.91%\n",
      "Transfer Success Rate on ResNet18: 46.20%\n",
      "Transfer Success Rate on EfficientNet-B0: 53.16%\n"
     ]
    }
   ],
   "source": [
    "transfer_A_to_A = evaluate_transferability(model_vgg, adv_examples_vgg, labels_vgg, \"VGG-16\")\n",
    "transfer_A_to_B = evaluate_transferability(model_resnet, adv_examples_vgg, labels_vgg, \"ResNet18\")\n",
    "transfer_A_to_C = evaluate_transferability(model_efficient, adv_examples_vgg, labels_vgg, \"EfficientNet-B0\")"
   ]
  },
  {
   "cell_type": "code",
   "execution_count": 14,
   "id": "bc1abb66",
   "metadata": {},
   "outputs": [
    {
     "name": "stdout",
     "output_type": "stream",
     "text": [
      "Transferability Matrix:\n",
      "                          VGG-16 (A) ResNet18 (B) EfficientNet-B0 (C)\n",
      "From VGG-16 (A)                99.91            -                   -\n",
      "From ResNet18 (B)              46.20            -                   -\n",
      "From EfficientNet-B0 (C)       53.16            -                   -\n"
     ]
    }
   ],
   "source": [
    "# Create transferability matrix\n",
    "transfer_matrix = pd.DataFrame({\n",
    "    \"VGG-16 (A)\": [transfer_A_to_A, transfer_A_to_B, transfer_A_to_C],\n",
    "    \"ResNet18 (B)\": [\"-\", \"-\", \"-\"],  \n",
    "    \"EfficientNet-B0 (C)\": [\"-\", \"-\", \"-\"]\n",
    "}, index=[\"From VGG-16 (A)\", \"From ResNet18 (B)\", \"From EfficientNet-B0 (C)\"])\n",
    "\n",
    "print(\"Transferability Matrix:\")\n",
    "print(transfer_matrix)"
   ]
  },
  {
   "cell_type": "markdown",
   "id": "8602c2bb",
   "metadata": {},
   "source": [
    "# **4.2.2 Use PGD to attack ResNet18 to create adversarial samples**"
   ]
  },
  {
   "cell_type": "code",
   "execution_count": 14,
   "id": "0f82bedc",
   "metadata": {},
   "outputs": [
    {
     "data": {
      "text/plain": [
       "202"
      ]
     },
     "execution_count": 14,
     "metadata": {},
     "output_type": "execute_result"
    }
   ],
   "source": [
    "import gc\n",
    "torch.cuda.empty_cache()\n",
    "gc.collect()"
   ]
  },
  {
   "cell_type": "code",
   "execution_count": null,
   "id": "4d1f7d21",
   "metadata": {},
   "outputs": [],
   "source": [
    "# Apply PGD attack to ResNet18\n",
    "pgd_attack = torchattacks.PGD(model_resnet, eps=0.03, alpha=0.01, steps=40)\n",
    "adv_examples_resnet, labels_resnet = generate_adversarial_examples(model_resnet, pgd_attack)"
   ]
  },
  {
   "cell_type": "code",
   "execution_count": 17,
   "id": "c5c0a6c6",
   "metadata": {},
   "outputs": [
    {
     "name": "stdout",
     "output_type": "stream",
     "text": [
      "Transfer Success Rate on VGG-16: 66.86%\n",
      "Transfer Success Rate on ResNet18: 99.92%\n",
      "Transfer Success Rate on EfficientNet-B0: 65.22%\n"
     ]
    }
   ],
   "source": [
    "transfer_B_to_A = evaluate_transferability(model_vgg, adv_examples_resnet, labels_resnet, \"VGG-16\")\n",
    "transfer_B_to_B = evaluate_transferability(model_resnet, adv_examples_resnet, labels_resnet, \"ResNet18\")\n",
    "transfer_B_to_C = evaluate_transferability(model_efficient, adv_examples_resnet, labels_resnet, \"EfficientNet-B0\")"
   ]
  },
  {
   "cell_type": "code",
   "execution_count": 18,
   "id": "a4225455",
   "metadata": {},
   "outputs": [
    {
     "name": "stdout",
     "output_type": "stream",
     "text": [
      "Transferability Matrix:\n",
      "                          VGG-16 (A)  ResNet18 (B) EfficientNet-B0 (C)\n",
      "From VGG-16 (A)                99.90         66.86                   -\n",
      "From ResNet18 (B)              46.41         99.92                   -\n",
      "From EfficientNet-B0 (C)       52.80         65.22                   -\n"
     ]
    }
   ],
   "source": [
    "# Create transferability matrix\n",
    "transfer_matrix = pd.DataFrame({\n",
    "    \"VGG-16 (A)\": [transfer_A_to_A, transfer_A_to_B, transfer_A_to_C],\n",
    "    \"ResNet18 (B)\": [transfer_B_to_A, transfer_B_to_B, transfer_B_to_C],  \n",
    "    \"EfficientNet-B0 (C)\": [\"-\", \"-\", \"-\"]\n",
    "}, index=[\"From VGG-16 (A)\", \"From ResNet18 (B)\", \"From EfficientNet-B0 (C)\"])\n",
    "\n",
    "print(\"Transferability Matrix:\")\n",
    "print(transfer_matrix)"
   ]
  },
  {
   "cell_type": "markdown",
   "id": "b26edb00",
   "metadata": {},
   "source": [
    "# **4.2.3 Use PGD to attack EfficientNet-B0 to create adversarial samples**"
   ]
  },
  {
   "cell_type": "code",
   "execution_count": 19,
   "id": "d27883a9",
   "metadata": {},
   "outputs": [
    {
     "data": {
      "text/plain": [
       "640"
      ]
     },
     "execution_count": 19,
     "metadata": {},
     "output_type": "execute_result"
    }
   ],
   "source": [
    "\n",
    "torch.cuda.empty_cache()\n",
    "gc.collect()"
   ]
  },
  {
   "cell_type": "code",
   "execution_count": 20,
   "id": "e9a000e3",
   "metadata": {},
   "outputs": [],
   "source": [
    "# Apply PGD attack to EfficientNet-B0\n",
    "pgd_attack = torchattacks.PGD(model_efficient, eps=0.03, alpha=0.01, steps=40)\n",
    "adv_examples_efficient, labels_efficient = generate_adversarial_examples(model_efficient, pgd_attack)"
   ]
  },
  {
   "cell_type": "code",
   "execution_count": 21,
   "id": "efc2dda1",
   "metadata": {},
   "outputs": [
    {
     "name": "stdout",
     "output_type": "stream",
     "text": [
      "Transfer Success Rate on VGG-16: 54.44%\n",
      "Transfer Success Rate on ResNet18: 44.98%\n",
      "Transfer Success Rate on EfficientNet-B0: 100.00%\n"
     ]
    }
   ],
   "source": [
    "transfer_C_to_A = evaluate_transferability(model_vgg, adv_examples_efficient, labels_efficient, \"VGG-16\")\n",
    "transfer_C_to_B = evaluate_transferability(model_resnet, adv_examples_efficient, labels_efficient, \"ResNet18\")\n",
    "transfer_C_to_C = evaluate_transferability(model_efficient, adv_examples_efficient, labels_efficient, \"EfficientNet-B0\")"
   ]
  },
  {
   "cell_type": "code",
   "execution_count": 22,
   "id": "ee67983f",
   "metadata": {},
   "outputs": [
    {
     "name": "stdout",
     "output_type": "stream",
     "text": [
      "Transferability Matrix:\n",
      "                          VGG-16 (A)  ResNet18 (B)  EfficientNet-B0 (C)\n",
      "From VGG-16 (A)                99.90         66.86                54.44\n",
      "From ResNet18 (B)              46.41         99.92                44.98\n",
      "From EfficientNet-B0 (C)       52.80         65.22               100.00\n"
     ]
    }
   ],
   "source": [
    "# Create transferability matrix\n",
    "transfer_matrix = pd.DataFrame({\n",
    "    \"VGG-16 (A)\": [transfer_A_to_A, transfer_A_to_B, transfer_A_to_C],\n",
    "    \"ResNet18 (B)\": [transfer_B_to_A, transfer_B_to_B, transfer_B_to_C],  \n",
    "    \"EfficientNet-B0 (C)\": [transfer_C_to_A, transfer_C_to_B, transfer_C_to_C]\n",
    "}, index=[\"From VGG-16 (A)\", \"From ResNet18 (B)\", \"From EfficientNet-B0 (C)\"])\n",
    "\n",
    "print(\"Transferability Matrix:\")\n",
    "print(transfer_matrix)"
   ]
  },
  {
   "cell_type": "markdown",
   "id": "6206d417",
   "metadata": {},
   "source": [
    "# **4.3.1 Use DeepFool to attack VGG16 to create adversarial samples**"
   ]
  },
  {
   "cell_type": "code",
   "execution_count": 12,
   "id": "a061644c",
   "metadata": {},
   "outputs": [
    {
     "data": {
      "text/plain": [
       "18"
      ]
     },
     "execution_count": 12,
     "metadata": {},
     "output_type": "execute_result"
    }
   ],
   "source": [
    "import gc\n",
    "torch.cuda.empty_cache()\n",
    "gc.collect()"
   ]
  },
  {
   "cell_type": "code",
   "execution_count": 13,
   "id": "9d77303a",
   "metadata": {},
   "outputs": [],
   "source": [
    "# Apply DeepFool attack to VGG-16\n",
    "deepfool_attack = torchattacks.DeepFool(model_vgg, steps=50)\n",
    "adv_examples_vgg, labels_vgg = generate_adversarial_examples(model_vgg, deepfool_attack)"
   ]
  },
  {
   "cell_type": "code",
   "execution_count": 14,
   "id": "2cb42f09",
   "metadata": {},
   "outputs": [
    {
     "name": "stdout",
     "output_type": "stream",
     "text": [
      "Transfer Success Rate on VGG-16: 98.94%\n",
      "Transfer Success Rate on ResNet18: 35.29%\n",
      "Transfer Success Rate on EfficientNet-B0: 33.02%\n"
     ]
    }
   ],
   "source": [
    "transfer_A_to_A = evaluate_transferability(model_vgg, adv_examples_vgg, labels_vgg, \"VGG-16\")\n",
    "transfer_A_to_B = evaluate_transferability(model_resnet, adv_examples_vgg, labels_vgg, \"ResNet18\")\n",
    "transfer_A_to_C = evaluate_transferability(model_efficient, adv_examples_vgg, labels_vgg, \"EfficientNet-B0\")"
   ]
  },
  {
   "cell_type": "code",
   "execution_count": 15,
   "id": "81d2eb5b",
   "metadata": {},
   "outputs": [
    {
     "name": "stdout",
     "output_type": "stream",
     "text": [
      "Transferability Matrix:\n",
      "                          VGG-16 (A) ResNet18 (B) EfficientNet-B0 (C)\n",
      "From VGG-16 (A)                98.94            -                   -\n",
      "From ResNet18 (B)              35.29            -                   -\n",
      "From EfficientNet-B0 (C)       33.02            -                   -\n"
     ]
    }
   ],
   "source": [
    "# Create transferability matrix\n",
    "transfer_matrix = pd.DataFrame({\n",
    "    \"VGG-16 (A)\": [transfer_A_to_A, transfer_A_to_B, transfer_A_to_C],\n",
    "    \"ResNet18 (B)\": [\"-\", \"-\", \"-\"],  \n",
    "    \"EfficientNet-B0 (C)\": [\"-\", \"-\", \"-\"]\n",
    "}, index=[\"From VGG-16 (A)\", \"From ResNet18 (B)\", \"From EfficientNet-B0 (C)\"])\n",
    "\n",
    "print(\"Transferability Matrix:\")\n",
    "print(transfer_matrix)"
   ]
  },
  {
   "cell_type": "markdown",
   "id": "757cd3c1",
   "metadata": {},
   "source": [
    "# **4.3.2 Use DeepFool to attack ResNet18 to create adversarial samples**"
   ]
  },
  {
   "cell_type": "code",
   "execution_count": 17,
   "id": "ed498c93",
   "metadata": {},
   "outputs": [
    {
     "data": {
      "text/plain": [
       "0"
      ]
     },
     "execution_count": 17,
     "metadata": {},
     "output_type": "execute_result"
    }
   ],
   "source": [
    "\n",
    "torch.cuda.empty_cache()\n",
    "gc.collect()"
   ]
  },
  {
   "cell_type": "code",
   "execution_count": 18,
   "id": "ac342a0c",
   "metadata": {},
   "outputs": [],
   "source": [
    "# Apply DeepFool attack to ResNet18\n",
    "deepfool_attack = torchattacks.DeepFool(model_resnet, steps=50)\n",
    "adv_examples_resnet, labels_resnet = generate_adversarial_examples(model_resnet, deepfool_attack)"
   ]
  },
  {
   "cell_type": "code",
   "execution_count": 19,
   "id": "eb84854e",
   "metadata": {},
   "outputs": [
    {
     "name": "stdout",
     "output_type": "stream",
     "text": [
      "Transfer Success Rate on VGG-16: 54.68%\n",
      "Transfer Success Rate on ResNet18: 83.65%\n",
      "Transfer Success Rate on EfficientNet-B0: 42.85%\n"
     ]
    }
   ],
   "source": [
    "transfer_B_to_A = evaluate_transferability(model_vgg, adv_examples_resnet, labels_resnet, \"VGG-16\")\n",
    "transfer_B_to_B = evaluate_transferability(model_resnet, adv_examples_resnet, labels_resnet, \"ResNet18\")\n",
    "transfer_B_to_C = evaluate_transferability(model_efficient, adv_examples_resnet, labels_resnet, \"EfficientNet-B0\")"
   ]
  },
  {
   "cell_type": "code",
   "execution_count": 20,
   "id": "8990d891",
   "metadata": {},
   "outputs": [
    {
     "name": "stdout",
     "output_type": "stream",
     "text": [
      "Transferability Matrix:\n",
      "                          VGG-16 (A)  ResNet18 (B) EfficientNet-B0 (C)\n",
      "From VGG-16 (A)                98.94         54.68                   -\n",
      "From ResNet18 (B)              35.29         83.65                   -\n",
      "From EfficientNet-B0 (C)       33.02         42.85                   -\n"
     ]
    }
   ],
   "source": [
    "# Create transferability matrix\n",
    "transfer_matrix = pd.DataFrame({\n",
    "    \"VGG-16 (A)\": [transfer_A_to_A, transfer_A_to_B, transfer_A_to_C],\n",
    "    \"ResNet18 (B)\": [transfer_B_to_A, transfer_B_to_B, transfer_B_to_C],  \n",
    "    \"EfficientNet-B0 (C)\": [\"-\", \"-\", \"-\"]\n",
    "}, index=[\"From VGG-16 (A)\", \"From ResNet18 (B)\", \"From EfficientNet-B0 (C)\"])\n",
    "\n",
    "print(\"Transferability Matrix:\")\n",
    "print(transfer_matrix)"
   ]
  },
  {
   "cell_type": "markdown",
   "id": "c887bef7",
   "metadata": {},
   "source": [
    "# **4.3.3 Use DeepFool to attack EfficientNet-B0 to create adversarial samples**"
   ]
  },
  {
   "cell_type": "code",
   "execution_count": 21,
   "id": "648b726d",
   "metadata": {},
   "outputs": [
    {
     "data": {
      "text/plain": [
       "760"
      ]
     },
     "execution_count": 21,
     "metadata": {},
     "output_type": "execute_result"
    }
   ],
   "source": [
    "\n",
    "torch.cuda.empty_cache()\n",
    "gc.collect()"
   ]
  },
  {
   "cell_type": "code",
   "execution_count": 22,
   "id": "01ae3ca3",
   "metadata": {},
   "outputs": [],
   "source": [
    "# Apply DeepFool attack to EfficientNet-B0\n",
    "deepfool_attack = torchattacks.DeepFool(model_efficient, steps=50)\n",
    "adv_examples_efficient, labels_efficient = generate_adversarial_examples(model_efficient, deepfool_attack)"
   ]
  },
  {
   "cell_type": "code",
   "execution_count": 23,
   "id": "6214469d",
   "metadata": {},
   "outputs": [
    {
     "name": "stdout",
     "output_type": "stream",
     "text": [
      "Transfer Success Rate on VGG-16: 53.08%\n",
      "Transfer Success Rate on ResNet18: 42.67%\n",
      "Transfer Success Rate on EfficientNet-B0: 78.06%\n"
     ]
    }
   ],
   "source": [
    "transfer_C_to_A = evaluate_transferability(model_vgg, adv_examples_efficient, labels_efficient, \"VGG-16\")\n",
    "transfer_C_to_B = evaluate_transferability(model_resnet, adv_examples_efficient, labels_efficient, \"ResNet18\")\n",
    "transfer_C_to_C = evaluate_transferability(model_efficient, adv_examples_efficient, labels_efficient, \"EfficientNet-B0\")"
   ]
  },
  {
   "cell_type": "code",
   "execution_count": 24,
   "id": "c322c6c0",
   "metadata": {},
   "outputs": [
    {
     "name": "stdout",
     "output_type": "stream",
     "text": [
      "Transferability Matrix:\n",
      "                          VGG-16 (A)  ResNet18 (B)  EfficientNet-B0 (C)\n",
      "From VGG-16 (A)                98.94         54.68                53.08\n",
      "From ResNet18 (B)              35.29         83.65                42.67\n",
      "From EfficientNet-B0 (C)       33.02         42.85                78.06\n"
     ]
    }
   ],
   "source": [
    "# Create transferability matrix\n",
    "transfer_matrix = pd.DataFrame({\n",
    "    \"VGG-16 (A)\": [transfer_A_to_A, transfer_A_to_B, transfer_A_to_C],\n",
    "    \"ResNet18 (B)\": [transfer_B_to_A, transfer_B_to_B, transfer_B_to_C],  \n",
    "    \"EfficientNet-B0 (C)\": [transfer_C_to_A, transfer_C_to_B, transfer_C_to_C]\n",
    "}, index=[\"From VGG-16 (A)\", \"From ResNet18 (B)\", \"From EfficientNet-B0 (C)\"])\n",
    "\n",
    "print(\"Transferability Matrix:\")\n",
    "print(transfer_matrix)"
   ]
  },
  {
   "cell_type": "markdown",
   "id": "e479f78c",
   "metadata": {},
   "source": [
    "# **4.4.1 Use BIM to attack VGG16 to create adversarial samples**"
   ]
  },
  {
   "cell_type": "code",
   "execution_count": 26,
   "id": "759cd621",
   "metadata": {},
   "outputs": [
    {
     "data": {
      "text/plain": [
       "0"
      ]
     },
     "execution_count": 26,
     "metadata": {},
     "output_type": "execute_result"
    }
   ],
   "source": [
    "import gc\n",
    "torch.cuda.empty_cache()\n",
    "gc.collect()"
   ]
  },
  {
   "cell_type": "code",
   "execution_count": 27,
   "id": "7cff1f77",
   "metadata": {},
   "outputs": [],
   "source": [
    "# Apply BIM attack to VGG-16\n",
    "bim_attack = torchattacks.BIM(model_vgg, eps=0.03, alpha=0.01, steps=10)\n",
    "adv_examples_vgg, labels_vgg = generate_adversarial_examples(model_vgg, bim_attack)"
   ]
  },
  {
   "cell_type": "code",
   "execution_count": 28,
   "id": "fc390370",
   "metadata": {},
   "outputs": [
    {
     "name": "stdout",
     "output_type": "stream",
     "text": [
      "Transfer Success Rate on VGG-16: 97.14%\n",
      "Transfer Success Rate on ResNet18: 10.08%\n",
      "Transfer Success Rate on EfficientNet-B0: 9.50%\n"
     ]
    }
   ],
   "source": [
    "transfer_A_to_A = evaluate_transferability(model_vgg, adv_examples_vgg, labels_vgg, \"VGG-16\")\n",
    "transfer_A_to_B = evaluate_transferability(model_resnet, adv_examples_vgg, labels_vgg, \"ResNet18\")\n",
    "transfer_A_to_C = evaluate_transferability(model_efficient, adv_examples_vgg, labels_vgg, \"EfficientNet-B0\")"
   ]
  },
  {
   "cell_type": "code",
   "execution_count": 29,
   "id": "fd04199a",
   "metadata": {},
   "outputs": [
    {
     "name": "stdout",
     "output_type": "stream",
     "text": [
      "Transferability Matrix:\n",
      "                          VGG-16 (A) ResNet18 (B) EfficientNet-B0 (C)\n",
      "From VGG-16 (A)                97.14            -                   -\n",
      "From ResNet18 (B)              10.08            -                   -\n",
      "From EfficientNet-B0 (C)        9.50            -                   -\n"
     ]
    }
   ],
   "source": [
    "# Create transferability matrix\n",
    "transfer_matrix = pd.DataFrame({\n",
    "    \"VGG-16 (A)\": [transfer_A_to_A, transfer_A_to_B, transfer_A_to_C],\n",
    "    \"ResNet18 (B)\": [\"-\", \"-\", \"-\"],  \n",
    "    \"EfficientNet-B0 (C)\": [\"-\", \"-\", \"-\"]\n",
    "}, index=[\"From VGG-16 (A)\", \"From ResNet18 (B)\", \"From EfficientNet-B0 (C)\"])\n",
    "\n",
    "print(\"Transferability Matrix:\")\n",
    "print(transfer_matrix)"
   ]
  },
  {
   "cell_type": "markdown",
   "id": "30305e70",
   "metadata": {},
   "source": [
    "# **4.4.2 Use BIM to attack ResNet18 to create adversarial samples**"
   ]
  },
  {
   "cell_type": "code",
   "execution_count": 31,
   "id": "6dc8e7d3",
   "metadata": {},
   "outputs": [
    {
     "data": {
      "text/plain": [
       "0"
      ]
     },
     "execution_count": 31,
     "metadata": {},
     "output_type": "execute_result"
    }
   ],
   "source": [
    "\n",
    "torch.cuda.empty_cache()\n",
    "gc.collect()"
   ]
  },
  {
   "cell_type": "code",
   "execution_count": 32,
   "id": "7bd5955a",
   "metadata": {},
   "outputs": [],
   "source": [
    "# Apply BIM attack to ResNet18\n",
    "bim_attack = torchattacks.BIM(model_resnet, eps=0.03, alpha=0.01, steps=10)\n",
    "adv_examples_vgg, labels_vgg = generate_adversarial_examples(model_resnet, bim_attack)"
   ]
  },
  {
   "cell_type": "code",
   "execution_count": 33,
   "id": "40e466ce",
   "metadata": {},
   "outputs": [
    {
     "name": "stdout",
     "output_type": "stream",
     "text": [
      "Transfer Success Rate on VGG-16: 54.68%\n",
      "Transfer Success Rate on ResNet18: 83.65%\n",
      "Transfer Success Rate on EfficientNet-B0: 42.85%\n"
     ]
    }
   ],
   "source": [
    "transfer_B_to_A = evaluate_transferability(model_vgg, adv_examples_resnet, labels_resnet, \"VGG-16\")\n",
    "transfer_B_to_B = evaluate_transferability(model_resnet, adv_examples_resnet, labels_resnet, \"ResNet18\")\n",
    "transfer_B_to_C = evaluate_transferability(model_efficient, adv_examples_resnet, labels_resnet, \"EfficientNet-B0\")"
   ]
  },
  {
   "cell_type": "code",
   "execution_count": 34,
   "id": "ca4cafa8",
   "metadata": {},
   "outputs": [
    {
     "name": "stdout",
     "output_type": "stream",
     "text": [
      "Transferability Matrix:\n",
      "                          VGG-16 (A)  ResNet18 (B) EfficientNet-B0 (C)\n",
      "From VGG-16 (A)                97.14         54.68                   -\n",
      "From ResNet18 (B)              10.08         83.65                   -\n",
      "From EfficientNet-B0 (C)        9.50         42.85                   -\n"
     ]
    }
   ],
   "source": [
    "# Create transferability matrix\n",
    "transfer_matrix = pd.DataFrame({\n",
    "    \"VGG-16 (A)\": [transfer_A_to_A, transfer_A_to_B, transfer_A_to_C],\n",
    "    \"ResNet18 (B)\": [transfer_B_to_A, transfer_B_to_B, transfer_B_to_C],  \n",
    "    \"EfficientNet-B0 (C)\": [\"-\", \"-\", \"-\"]\n",
    "}, index=[\"From VGG-16 (A)\", \"From ResNet18 (B)\", \"From EfficientNet-B0 (C)\"])\n",
    "\n",
    "print(\"Transferability Matrix:\")\n",
    "print(transfer_matrix)"
   ]
  },
  {
   "cell_type": "markdown",
   "id": "4c64810c",
   "metadata": {},
   "source": [
    "# **4.4.3 Use BIM to attack EfficientNet18 to create adversarial samples**"
   ]
  },
  {
   "cell_type": "code",
   "execution_count": 36,
   "id": "2e5102c1",
   "metadata": {},
   "outputs": [
    {
     "data": {
      "text/plain": [
       "0"
      ]
     },
     "execution_count": 36,
     "metadata": {},
     "output_type": "execute_result"
    }
   ],
   "source": [
    "\n",
    "torch.cuda.empty_cache()\n",
    "gc.collect()"
   ]
  },
  {
   "cell_type": "code",
   "execution_count": 37,
   "id": "4badabe2",
   "metadata": {},
   "outputs": [],
   "source": [
    "# Apply BIM attack to EfficientNet-B0\n",
    "bim_attack = torchattacks.BIM(model_efficient, eps=0.03, alpha=0.01, steps=10)\n",
    "adv_examples_vgg, labels_vgg = generate_adversarial_examples(model_efficient, bim_attack)"
   ]
  },
  {
   "cell_type": "code",
   "execution_count": 38,
   "id": "485b5a7e",
   "metadata": {},
   "outputs": [
    {
     "name": "stdout",
     "output_type": "stream",
     "text": [
      "Transfer Success Rate on VGG-16: 53.08%\n",
      "Transfer Success Rate on ResNet18: 42.67%\n",
      "Transfer Success Rate on EfficientNet-B0: 78.06%\n"
     ]
    }
   ],
   "source": [
    "transfer_C_to_A = evaluate_transferability(model_vgg, adv_examples_efficient, labels_efficient, \"VGG-16\")\n",
    "transfer_C_to_B = evaluate_transferability(model_resnet, adv_examples_efficient, labels_efficient, \"ResNet18\")\n",
    "transfer_C_to_C = evaluate_transferability(model_efficient, adv_examples_efficient, labels_efficient, \"EfficientNet-B0\")"
   ]
  },
  {
   "cell_type": "code",
   "execution_count": 39,
   "id": "5dfd7405",
   "metadata": {},
   "outputs": [
    {
     "name": "stdout",
     "output_type": "stream",
     "text": [
      "Transferability Matrix:\n",
      "                          VGG-16 (A)  ResNet18 (B)  EfficientNet-B0 (C)\n",
      "From VGG-16 (A)                97.14         54.68                53.08\n",
      "From ResNet18 (B)              10.08         83.65                42.67\n",
      "From EfficientNet-B0 (C)        9.50         42.85                78.06\n"
     ]
    }
   ],
   "source": [
    "# Create transferability matrix\n",
    "transfer_matrix = pd.DataFrame({\n",
    "    \"VGG-16 (A)\": [transfer_A_to_A, transfer_A_to_B, transfer_A_to_C],\n",
    "    \"ResNet18 (B)\": [transfer_B_to_A, transfer_B_to_B, transfer_B_to_C],  \n",
    "    \"EfficientNet-B0 (C)\": [transfer_C_to_A, transfer_C_to_B, transfer_C_to_C]\n",
    "}, index=[\"From VGG-16 (A)\", \"From ResNet18 (B)\", \"From EfficientNet-B0 (C)\"])\n",
    "\n",
    "print(\"Transferability Matrix:\")\n",
    "print(transfer_matrix)"
   ]
  },
  {
   "cell_type": "markdown",
   "id": "1453ce22",
   "metadata": {},
   "source": [
    "# **4.5.1 Use C&W to attack VGG16 to create adversarial samples**"
   ]
  },
  {
   "cell_type": "code",
   "execution_count": 41,
   "id": "0bef0434",
   "metadata": {},
   "outputs": [
    {
     "data": {
      "text/plain": [
       "0"
      ]
     },
     "execution_count": 41,
     "metadata": {},
     "output_type": "execute_result"
    }
   ],
   "source": [
    "import gc\n",
    "torch.cuda.empty_cache()\n",
    "gc.collect()"
   ]
  },
  {
   "cell_type": "code",
   "execution_count": 42,
   "id": "0b61dcde",
   "metadata": {},
   "outputs": [],
   "source": [
    "# Apply C&W attack to VGG-16\n",
    "cw_attack = torchattacks.CW(model_vgg, c=1, kappa=0, steps=100, lr=0.01)\n",
    "adv_examples_vgg, labels_vgg = generate_adversarial_examples(model_vgg, cw_attack)"
   ]
  },
  {
   "cell_type": "code",
   "execution_count": 43,
   "id": "d0a1ad7e",
   "metadata": {},
   "outputs": [
    {
     "name": "stdout",
     "output_type": "stream",
     "text": [
      "Transfer Success Rate on VGG-16: 99.24%\n",
      "Transfer Success Rate on ResNet18: 43.61%\n",
      "Transfer Success Rate on EfficientNet-B0: 42.48%\n"
     ]
    }
   ],
   "source": [
    "transfer_A_to_A = evaluate_transferability(model_vgg, adv_examples_vgg, labels_vgg, \"VGG-16\")\n",
    "transfer_A_to_B = evaluate_transferability(model_resnet, adv_examples_vgg, labels_vgg, \"ResNet18\")\n",
    "transfer_A_to_C = evaluate_transferability(model_efficient, adv_examples_vgg, labels_vgg, \"EfficientNet-B0\")"
   ]
  },
  {
   "cell_type": "code",
   "execution_count": 44,
   "id": "17eff9fc",
   "metadata": {},
   "outputs": [
    {
     "name": "stdout",
     "output_type": "stream",
     "text": [
      "Transferability Matrix:\n",
      "                          VGG-16 (A) ResNet18 (B) EfficientNet-B0 (C)\n",
      "From VGG-16 (A)                99.24            -                   -\n",
      "From ResNet18 (B)              43.61            -                   -\n",
      "From EfficientNet-B0 (C)       42.48            -                   -\n"
     ]
    }
   ],
   "source": [
    "# Create transferability matrix\n",
    "transfer_matrix = pd.DataFrame({\n",
    "    \"VGG-16 (A)\": [transfer_A_to_A, transfer_A_to_B, transfer_A_to_C],\n",
    "    \"ResNet18 (B)\": [\"-\", \"-\", \"-\"],  \n",
    "    \"EfficientNet-B0 (C)\": [\"-\", \"-\", \"-\"]\n",
    "}, index=[\"From VGG-16 (A)\", \"From ResNet18 (B)\", \"From EfficientNet-B0 (C)\"])\n",
    "\n",
    "print(\"Transferability Matrix:\")\n",
    "print(transfer_matrix)"
   ]
  },
  {
   "cell_type": "markdown",
   "id": "71371f98",
   "metadata": {},
   "source": [
    "# **4.5.2 Use C&W to attack ResNet18 to create adversarial samples**"
   ]
  },
  {
   "cell_type": "code",
   "execution_count": 46,
   "id": "47cc55f0",
   "metadata": {},
   "outputs": [
    {
     "data": {
      "text/plain": [
       "0"
      ]
     },
     "execution_count": 46,
     "metadata": {},
     "output_type": "execute_result"
    }
   ],
   "source": [
    "\n",
    "torch.cuda.empty_cache()\n",
    "gc.collect()"
   ]
  },
  {
   "cell_type": "code",
   "execution_count": 47,
   "id": "7e253963",
   "metadata": {},
   "outputs": [],
   "source": [
    "# Apply C&W attack to ResNet18\n",
    "cw_attack = torchattacks.CW(model_resnet, c=1, kappa=0, steps=100, lr=0.01)\n",
    "adv_examples_vgg, labels_vgg = generate_adversarial_examples(model_resnet, cw_attack)"
   ]
  },
  {
   "cell_type": "code",
   "execution_count": 48,
   "id": "535a3f0b",
   "metadata": {},
   "outputs": [
    {
     "name": "stdout",
     "output_type": "stream",
     "text": [
      "Transfer Success Rate on VGG-16: 54.68%\n",
      "Transfer Success Rate on ResNet18: 83.65%\n",
      "Transfer Success Rate on EfficientNet-B0: 42.85%\n"
     ]
    }
   ],
   "source": [
    "transfer_B_to_A = evaluate_transferability(model_vgg, adv_examples_resnet, labels_resnet, \"VGG-16\")\n",
    "transfer_B_to_B = evaluate_transferability(model_resnet, adv_examples_resnet, labels_resnet, \"ResNet18\")\n",
    "transfer_B_to_C = evaluate_transferability(model_efficient, adv_examples_resnet, labels_resnet, \"EfficientNet-B0\")"
   ]
  },
  {
   "cell_type": "code",
   "execution_count": 49,
   "id": "f897aa58",
   "metadata": {},
   "outputs": [
    {
     "name": "stdout",
     "output_type": "stream",
     "text": [
      "Transferability Matrix:\n",
      "                          VGG-16 (A)  ResNet18 (B) EfficientNet-B0 (C)\n",
      "From VGG-16 (A)                99.24         54.68                   -\n",
      "From ResNet18 (B)              43.61         83.65                   -\n",
      "From EfficientNet-B0 (C)       42.48         42.85                   -\n"
     ]
    }
   ],
   "source": [
    "# Create transferability matrix\n",
    "transfer_matrix = pd.DataFrame({\n",
    "    \"VGG-16 (A)\": [transfer_A_to_A, transfer_A_to_B, transfer_A_to_C],\n",
    "    \"ResNet18 (B)\": [transfer_B_to_A, transfer_B_to_B, transfer_B_to_C],  \n",
    "    \"EfficientNet-B0 (C)\": [\"-\", \"-\", \"-\"]\n",
    "}, index=[\"From VGG-16 (A)\", \"From ResNet18 (B)\", \"From EfficientNet-B0 (C)\"])\n",
    "\n",
    "print(\"Transferability Matrix:\")\n",
    "print(transfer_matrix)"
   ]
  },
  {
   "cell_type": "markdown",
   "id": "0a7f7598",
   "metadata": {},
   "source": [
    "# **4.5.3 Use C&W to attack EfficientNet18 to create adversarial samples**"
   ]
  },
  {
   "cell_type": "code",
   "execution_count": 56,
   "id": "f83f62f4",
   "metadata": {},
   "outputs": [
    {
     "data": {
      "text/plain": [
       "0"
      ]
     },
     "execution_count": 56,
     "metadata": {},
     "output_type": "execute_result"
    }
   ],
   "source": [
    "\n",
    "torch.cuda.empty_cache()\n",
    "gc.collect()"
   ]
  },
  {
   "cell_type": "code",
   "execution_count": 52,
   "id": "12a97d84",
   "metadata": {},
   "outputs": [],
   "source": [
    "# Apply C&W attack to EfficientNet-B0\n",
    "cw_attack = torchattacks.CW(model_efficient, c=1, kappa=0, steps=100, lr=0.01)\n",
    "adv_examples_vgg, labels_vgg = generate_adversarial_examples(model_efficient, cw_attack)"
   ]
  },
  {
   "cell_type": "code",
   "execution_count": 53,
   "id": "47455e85",
   "metadata": {},
   "outputs": [
    {
     "name": "stdout",
     "output_type": "stream",
     "text": [
      "Transfer Success Rate on VGG-16: 53.08%\n",
      "Transfer Success Rate on ResNet18: 42.67%\n",
      "Transfer Success Rate on EfficientNet-B0: 78.06%\n"
     ]
    }
   ],
   "source": [
    "transfer_C_to_A = evaluate_transferability(model_vgg, adv_examples_efficient, labels_efficient, \"VGG-16\")\n",
    "transfer_C_to_B = evaluate_transferability(model_resnet, adv_examples_efficient, labels_efficient, \"ResNet18\")\n",
    "transfer_C_to_C = evaluate_transferability(model_efficient, adv_examples_efficient, labels_efficient, \"EfficientNet-B0\")"
   ]
  },
  {
   "cell_type": "code",
   "execution_count": 54,
   "id": "87a97385",
   "metadata": {},
   "outputs": [
    {
     "name": "stdout",
     "output_type": "stream",
     "text": [
      "Transferability Matrix:\n",
      "                          VGG-16 (A)  ResNet18 (B)  EfficientNet-B0 (C)\n",
      "From VGG-16 (A)                99.24         54.68                53.08\n",
      "From ResNet18 (B)              43.61         83.65                42.67\n",
      "From EfficientNet-B0 (C)       42.48         42.85                78.06\n"
     ]
    }
   ],
   "source": [
    "# Create transferability matrix\n",
    "transfer_matrix = pd.DataFrame({\n",
    "    \"VGG-16 (A)\": [transfer_A_to_A, transfer_A_to_B, transfer_A_to_C],\n",
    "    \"ResNet18 (B)\": [transfer_B_to_A, transfer_B_to_B, transfer_B_to_C],  \n",
    "    \"EfficientNet-B0 (C)\": [transfer_C_to_A, transfer_C_to_B, transfer_C_to_C]\n",
    "}, index=[\"From VGG-16 (A)\", \"From ResNet18 (B)\", \"From EfficientNet-B0 (C)\"])\n",
    "\n",
    "print(\"Transferability Matrix:\")\n",
    "print(transfer_matrix)"
   ]
  },
  {
   "cell_type": "code",
   "execution_count": null,
   "id": "c45b5a90",
   "metadata": {},
   "outputs": [],
   "source": []
  }
 ],
 "metadata": {
  "accelerator": "GPU",
  "colab": {
   "gpuType": "T4",
   "provenance": []
  },
  "kernelspec": {
   "display_name": "base",
   "language": "python",
   "name": "python3"
  },
  "language_info": {
   "codemirror_mode": {
    "name": "ipython",
    "version": 3
   },
   "file_extension": ".py",
   "mimetype": "text/x-python",
   "name": "python",
   "nbconvert_exporter": "python",
   "pygments_lexer": "ipython3",
   "version": "3.9.7"
  }
 },
 "nbformat": 4,
 "nbformat_minor": 5
}
