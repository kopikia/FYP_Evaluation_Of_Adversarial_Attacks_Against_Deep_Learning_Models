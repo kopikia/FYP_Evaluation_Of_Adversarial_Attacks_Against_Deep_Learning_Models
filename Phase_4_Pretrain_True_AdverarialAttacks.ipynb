{
 "cells": [
  {
   "cell_type": "markdown",
   "id": "a1ebc110",
   "metadata": {
    "id": "a1ebc110"
   },
   "source": [
    "# **Adversarial Robustness of VGG-16, ResNet18, and EfficientNet-B0 on CIFAR-10**\n",
    "# **Pretrain=True, 30 epoch**"
   ]
  },
  {
   "cell_type": "markdown",
   "id": "1104a876-baeb-4f42-aade-c636c74b5537",
   "metadata": {},
   "source": [
    "# "
   ]
  },
  {
   "cell_type": "markdown",
   "id": "6fbb12e1",
   "metadata": {
    "id": "6fbb12e1"
   },
   "source": [
    "## **1. Import Required Libraries**"
   ]
  },
  {
   "cell_type": "code",
   "execution_count": 1,
   "id": "Bje--5beHvEU",
   "metadata": {
    "colab": {
     "base_uri": "https://localhost:8080/"
    },
    "id": "Bje--5beHvEU",
    "outputId": "cd17869f-5bb4-4d56-ff4d-f4f30e4f2c33"
   },
   "outputs": [
    {
     "name": "stdout",
     "output_type": "stream",
     "text": [
      "True\n",
      "NVIDIA GeForce RTX 4060\n"
     ]
    }
   ],
   "source": [
    "import torch\n",
    "print(torch.cuda.is_available())  # Should return True if GPU is available\n",
    "print(torch.cuda.get_device_name(0))  # Should print the name of your GPU"
   ]
  },
  {
   "cell_type": "code",
   "execution_count": 4,
   "id": "ed4076d8",
   "metadata": {
    "colab": {
     "base_uri": "https://localhost:8080/"
    },
    "id": "ed4076d8",
    "outputId": "1a1b4f65-4aee-459f-ef66-ed644ae2eb8e"
   },
   "outputs": [
    {
     "name": "stdout",
     "output_type": "stream",
     "text": [
      "Using device: cuda\n"
     ]
    }
   ],
   "source": [
    "\n",
    "import torch\n",
    "import torch.nn as nn\n",
    "import torch.optim as optim\n",
    "import torchvision\n",
    "import torchvision.transforms as transforms\n",
    "import torchattacks\n",
    "import time\n",
    "import pandas as pd\n",
    "from torchvision import models\n",
    "\n",
    "# Check for GPU\n",
    "device = torch.device(\"cuda\" if torch.cuda.is_available() else \"cpu\")\n",
    "print(f'Using device: {device}')\n"
   ]
  },
  {
   "cell_type": "markdown",
   "id": "dea1e791",
   "metadata": {
    "id": "dea1e791"
   },
   "source": [
    "## **2. Load CIFAR-10 Dataset**"
   ]
  },
  {
   "cell_type": "code",
   "execution_count": 5,
   "id": "22c6b1ea",
   "metadata": {
    "id": "22c6b1ea"
   },
   "outputs": [],
   "source": [
    "\n",
    "# Load CIFAR-10 dataset\n",
    "transform = transforms.Compose([\n",
    "    transforms.Resize((224, 224)),  # Resize for model compatibility\n",
    "    transforms.ToTensor(),\n",
    "    transforms.Normalize((0.5,), (0.5,))\n",
    "])\n",
    "\n",
    "trainset = torchvision.datasets.CIFAR10(root='./data', train=True, download=True, transform=transform)\n",
    "trainloader = torch.utils.data.DataLoader(trainset, batch_size=64, shuffle=True)\n",
    "\n",
    "testset = torchvision.datasets.CIFAR10(root='./data', train=False, download=True, transform=transform)\n",
    "testloader = torch.utils.data.DataLoader(testset, batch_size=64, shuffle=False)\n"
   ]
  },
  {
   "cell_type": "markdown",
   "id": "0ca535aa",
   "metadata": {},
   "source": [
    "# **3. Defining Models From torchvision**"
   ]
  },
  {
   "cell_type": "markdown",
   "id": "6e5c1034",
   "metadata": {
    "id": "6e5c1034"
   },
   "source": [
    "## **3.1 Define VGG-16 Model**"
   ]
  },
  {
   "cell_type": "code",
   "execution_count": 6,
   "id": "981ae432",
   "metadata": {
    "colab": {
     "base_uri": "https://localhost:8080/"
    },
    "id": "981ae432",
    "outputId": "4bf5473f-be48-46a0-dcf1-02e687ba93a3"
   },
   "outputs": [],
   "source": [
    "\n",
    "# Load pre-defined VGG-16 model from torchvision\n",
    "class VGG16(nn.Module):\n",
    "    def __init__(self):\n",
    "        super(VGG16, self).__init__()\n",
    "        self.model = models.vgg16(pretrained=True)\n",
    "        num_ftrs = self.model.classifier[6].in_features\n",
    "        self.model.classifier[6] = nn.Linear(num_ftrs, 10)  # Adjust for CIFAR-10 classes\n",
    "\n",
    "    def forward(self, x):\n",
    "        return self.model(x)\n"
   ]
  },
  {
   "cell_type": "markdown",
   "id": "95a81f2b",
   "metadata": {
    "id": "95a81f2b"
   },
   "source": [
    "## **3.2 Define ResNet18 Model**"
   ]
  },
  {
   "cell_type": "code",
   "execution_count": 7,
   "id": "73dd9b80",
   "metadata": {
    "id": "73dd9b80"
   },
   "outputs": [],
   "source": [
    "\n",
    "# Load pre-defined ResNet18 model from torchvision\n",
    "class ResNet18(nn.Module):\n",
    "    def __init__(self):\n",
    "        super(ResNet18, self).__init__()\n",
    "        self.model = models.resnet18(pretrained=True)\n",
    "        num_ftrs = self.model.fc.in_features\n",
    "        self.model.fc = nn.Linear(num_ftrs, 10)  # Adjust for CIFAR-10 classes\n",
    "\n",
    "    def forward(self, x):\n",
    "        return self.model(x)\n"
   ]
  },
  {
   "cell_type": "markdown",
   "id": "981c82d4",
   "metadata": {
    "id": "981c82d4"
   },
   "source": [
    "## **3.3 Define EfficientNet-B0 Model**"
   ]
  },
  {
   "cell_type": "code",
   "execution_count": 8,
   "id": "5e4a2902",
   "metadata": {
    "id": "5e4a2902"
   },
   "outputs": [],
   "source": [
    "\n",
    "# Load pre-defined EfficientNet-B0 model from torchvision\n",
    "class EfficientNetB0(nn.Module):\n",
    "    def __init__(self):\n",
    "        super(EfficientNetB0, self).__init__()\n",
    "        self.model = models.efficientnet_b0(pretrained=True)\n",
    "        num_ftrs = self.model.classifier[1].in_features\n",
    "        self.model.classifier[1] = nn.Linear(num_ftrs, 10)  # Adjust for CIFAR-10 classes\n",
    "\n",
    "    def forward(self, x):\n",
    "        return self.model(x)\n",
    "\n"
   ]
  },
  {
   "cell_type": "code",
   "execution_count": 9,
   "id": "ec0457e8-dc0b-4315-a3a4-5fa6942b8a9b",
   "metadata": {},
   "outputs": [
    {
     "name": "stderr",
     "output_type": "stream",
     "text": [
      "C:\\Users\\laika\\AppData\\Local\\Programs\\Python\\Python313\\Lib\\site-packages\\torchvision\\models\\_utils.py:208: UserWarning: The parameter 'pretrained' is deprecated since 0.13 and may be removed in the future, please use 'weights' instead.\n",
      "  warnings.warn(\n",
      "C:\\Users\\laika\\AppData\\Local\\Programs\\Python\\Python313\\Lib\\site-packages\\torchvision\\models\\_utils.py:223: UserWarning: Arguments other than a weight enum or `None` for 'weights' are deprecated since 0.13 and may be removed in the future. The current behavior is equivalent to passing `weights=VGG16_Weights.IMAGENET1K_V1`. You can also use `weights=VGG16_Weights.DEFAULT` to get the most up-to-date weights.\n",
      "  warnings.warn(msg)\n",
      "C:\\Users\\laika\\AppData\\Local\\Programs\\Python\\Python313\\Lib\\site-packages\\torchvision\\models\\_utils.py:223: UserWarning: Arguments other than a weight enum or `None` for 'weights' are deprecated since 0.13 and may be removed in the future. The current behavior is equivalent to passing `weights=ResNet18_Weights.IMAGENET1K_V1`. You can also use `weights=ResNet18_Weights.DEFAULT` to get the most up-to-date weights.\n",
      "  warnings.warn(msg)\n",
      "C:\\Users\\laika\\AppData\\Local\\Programs\\Python\\Python313\\Lib\\site-packages\\torchvision\\models\\_utils.py:223: UserWarning: Arguments other than a weight enum or `None` for 'weights' are deprecated since 0.13 and may be removed in the future. The current behavior is equivalent to passing `weights=EfficientNet_B0_Weights.IMAGENET1K_V1`. You can also use `weights=EfficientNet_B0_Weights.DEFAULT` to get the most up-to-date weights.\n",
      "  warnings.warn(msg)\n"
     ]
    }
   ],
   "source": [
    "# Initialize models\n",
    "model_vgg = VGG16().to(device)\n",
    "model_resnet = ResNet18().to(device)\n",
    "model_efficient = EfficientNetB0().to(device)\n",
    "\n",
    "# Define loss function and optimizers\n",
    "criterion = nn.CrossEntropyLoss()\n",
    "optimizer_vgg = optim.Adam(model_vgg.parameters(), lr=0.001)\n",
    "optimizer_resnet = optim.Adam(model_resnet.parameters(), lr=0.001)\n",
    "optimizer_efficient = optim.Adam(model_efficient.parameters(), lr=0.001)"
   ]
  },
  {
   "cell_type": "markdown",
   "id": "401a76bf",
   "metadata": {
    "id": "401a76bf"
   },
   "source": [
    "## **4. Train the Models**"
   ]
  },
  {
   "cell_type": "code",
   "execution_count": 10,
   "id": "85f259eb",
   "metadata": {
    "colab": {
     "base_uri": "https://localhost:8080/"
    },
    "id": "85f259eb",
    "outputId": "596dc0ca-f9d3-4cfb-a76a-f8b65ee2d29d"
   },
   "outputs": [
    {
     "name": "stdout",
     "output_type": "stream",
     "text": [
      "Training VGG-16 for 30 epochs...\n",
      "VGG-16 - Epoch 1, Loss: 1.7169\n",
      "VGG-16 - Epoch 2, Loss: 1.3518\n",
      "VGG-16 - Epoch 3, Loss: 1.1023\n",
      "VGG-16 - Epoch 4, Loss: 0.9535\n",
      "VGG-16 - Epoch 5, Loss: 0.8500\n",
      "VGG-16 - Epoch 6, Loss: 0.7667\n",
      "VGG-16 - Epoch 7, Loss: 0.6926\n",
      "VGG-16 - Epoch 8, Loss: 0.6418\n",
      "VGG-16 - Epoch 9, Loss: 0.5796\n",
      "VGG-16 - Epoch 10, Loss: 0.5387\n",
      "VGG-16 - Epoch 11, Loss: 0.4894\n",
      "VGG-16 - Epoch 12, Loss: 0.4336\n",
      "VGG-16 - Epoch 13, Loss: 0.4056\n",
      "VGG-16 - Epoch 14, Loss: 0.3749\n",
      "VGG-16 - Epoch 15, Loss: 0.3465\n",
      "VGG-16 - Epoch 16, Loss: 0.3267\n",
      "VGG-16 - Epoch 17, Loss: 0.2919\n",
      "VGG-16 - Epoch 18, Loss: 0.2814\n",
      "VGG-16 - Epoch 19, Loss: 0.2872\n",
      "VGG-16 - Epoch 20, Loss: 0.2672\n",
      "VGG-16 - Epoch 21, Loss: 0.2453\n",
      "VGG-16 - Epoch 22, Loss: 0.2353\n",
      "VGG-16 - Epoch 23, Loss: 0.2274\n",
      "VGG-16 - Epoch 24, Loss: 0.2197\n",
      "VGG-16 - Epoch 25, Loss: 0.2173\n",
      "VGG-16 - Epoch 26, Loss: 0.2147\n",
      "VGG-16 - Epoch 27, Loss: 0.2106\n",
      "VGG-16 - Epoch 28, Loss: 0.2027\n",
      "VGG-16 - Epoch 29, Loss: 0.1930\n",
      "VGG-16 - Epoch 30, Loss: 0.2027\n",
      "Training ResNet18 for 30 epochs...\n",
      "ResNet18 - Epoch 1, Loss: 0.5628\n",
      "ResNet18 - Epoch 2, Loss: 0.3261\n",
      "ResNet18 - Epoch 3, Loss: 0.2277\n",
      "ResNet18 - Epoch 4, Loss: 0.1595\n",
      "ResNet18 - Epoch 5, Loss: 0.1268\n",
      "ResNet18 - Epoch 6, Loss: 0.0960\n",
      "ResNet18 - Epoch 7, Loss: 0.0852\n",
      "ResNet18 - Epoch 8, Loss: 0.0707\n",
      "ResNet18 - Epoch 9, Loss: 0.0607\n",
      "ResNet18 - Epoch 10, Loss: 0.0551\n",
      "ResNet18 - Epoch 11, Loss: 0.0483\n",
      "ResNet18 - Epoch 12, Loss: 0.0501\n",
      "ResNet18 - Epoch 13, Loss: 0.0401\n",
      "ResNet18 - Epoch 14, Loss: 0.0381\n",
      "ResNet18 - Epoch 15, Loss: 0.0384\n",
      "ResNet18 - Epoch 16, Loss: 0.0378\n",
      "ResNet18 - Epoch 17, Loss: 0.0297\n",
      "ResNet18 - Epoch 18, Loss: 0.0270\n",
      "ResNet18 - Epoch 19, Loss: 0.0296\n",
      "ResNet18 - Epoch 20, Loss: 0.0271\n",
      "ResNet18 - Epoch 21, Loss: 0.0307\n",
      "ResNet18 - Epoch 22, Loss: 0.0235\n",
      "ResNet18 - Epoch 23, Loss: 0.0229\n",
      "ResNet18 - Epoch 24, Loss: 0.0270\n",
      "ResNet18 - Epoch 25, Loss: 0.0200\n",
      "ResNet18 - Epoch 26, Loss: 0.0211\n",
      "ResNet18 - Epoch 27, Loss: 0.0193\n",
      "ResNet18 - Epoch 28, Loss: 0.0208\n",
      "ResNet18 - Epoch 29, Loss: 0.0166\n",
      "ResNet18 - Epoch 30, Loss: 0.0221\n",
      "Training EfficientNet-B0 for 30 epochs...\n",
      "EfficientNet-B0 - Epoch 1, Loss: 0.3793\n",
      "EfficientNet-B0 - Epoch 2, Loss: 0.2042\n",
      "EfficientNet-B0 - Epoch 3, Loss: 0.1543\n",
      "EfficientNet-B0 - Epoch 4, Loss: 0.1246\n",
      "EfficientNet-B0 - Epoch 5, Loss: 0.1105\n",
      "EfficientNet-B0 - Epoch 6, Loss: 0.0942\n",
      "EfficientNet-B0 - Epoch 7, Loss: 0.0810\n",
      "EfficientNet-B0 - Epoch 8, Loss: 0.0741\n",
      "EfficientNet-B0 - Epoch 9, Loss: 0.0725\n",
      "EfficientNet-B0 - Epoch 10, Loss: 0.0613\n",
      "EfficientNet-B0 - Epoch 11, Loss: 0.0586\n",
      "EfficientNet-B0 - Epoch 12, Loss: 0.0536\n",
      "EfficientNet-B0 - Epoch 13, Loss: 0.0497\n",
      "EfficientNet-B0 - Epoch 14, Loss: 0.0432\n",
      "EfficientNet-B0 - Epoch 15, Loss: 0.0478\n",
      "EfficientNet-B0 - Epoch 16, Loss: 0.0411\n",
      "EfficientNet-B0 - Epoch 17, Loss: 0.0446\n",
      "EfficientNet-B0 - Epoch 18, Loss: 0.0386\n",
      "EfficientNet-B0 - Epoch 19, Loss: 0.0390\n",
      "EfficientNet-B0 - Epoch 20, Loss: 0.0308\n",
      "EfficientNet-B0 - Epoch 21, Loss: 0.0341\n",
      "EfficientNet-B0 - Epoch 22, Loss: 0.0375\n",
      "EfficientNet-B0 - Epoch 23, Loss: 0.0282\n",
      "EfficientNet-B0 - Epoch 24, Loss: 0.0302\n",
      "EfficientNet-B0 - Epoch 25, Loss: 0.0294\n",
      "EfficientNet-B0 - Epoch 26, Loss: 0.0272\n",
      "EfficientNet-B0 - Epoch 27, Loss: 0.0310\n",
      "EfficientNet-B0 - Epoch 28, Loss: 0.0296\n",
      "EfficientNet-B0 - Epoch 29, Loss: 0.0248\n",
      "EfficientNet-B0 - Epoch 30, Loss: 0.0262\n"
     ]
    }
   ],
   "source": [
    "\n",
    "# Training function\n",
    "def train_model(model, optimizer, model_name, epochs=30):\n",
    "    model.train()\n",
    "    for epoch in range(epochs):\n",
    "        running_loss = 0.0\n",
    "        for images, labels in trainloader:\n",
    "            images, labels = images.to(device), labels.to(device)\n",
    "            optimizer.zero_grad()\n",
    "            outputs = model(images)\n",
    "            loss = criterion(outputs, labels)\n",
    "            loss.backward()\n",
    "            optimizer.step()\n",
    "            running_loss += loss.item()\n",
    "\n",
    "        print(f\"{model_name} - Epoch {epoch+1}, Loss: {running_loss/len(trainloader):.4f}\")\n",
    "\n",
    "print(\"Training VGG-16 for 30 epochs...\")\n",
    "train_model(model_vgg, optimizer_vgg, \"VGG-16\")\n",
    "\n",
    "print(\"Training ResNet18 for 30 epochs...\")\n",
    "train_model(model_resnet, optimizer_resnet, \"ResNet18\")\n",
    "\n",
    "print(\"Training EfficientNet-B0 for 30 epochs...\")\n",
    "train_model(model_efficient, optimizer_efficient, \"EfficientNet-B0\")\n"
   ]
  },
  {
   "cell_type": "code",
   "execution_count": 11,
   "id": "87db93de-ae22-48c0-906c-2654902982cb",
   "metadata": {},
   "outputs": [],
   "source": [
    "torch.save(model_vgg, \"model_vgg_30.pth\")\n",
    "torch.save(model_resnet, \"model_resnet_30.pth\")\n",
    "torch.save(model_efficient, \"model_efficient_30.pth\")"
   ]
  },
  {
   "cell_type": "markdown",
   "id": "237e8b0b",
   "metadata": {
    "id": "237e8b0b"
   },
   "source": [
    "## **5. Evaluate Model Accuracy on Clean Test Images**"
   ]
  },
  {
   "cell_type": "code",
   "execution_count": 12,
   "id": "7135fe12",
   "metadata": {
    "id": "7135fe12"
   },
   "outputs": [
    {
     "name": "stdout",
     "output_type": "stream",
     "text": [
      "VGG-16 Accuracy on clean test images: 76.01%\n",
      "ResNet18 Accuracy on clean test images: 91.30%\n",
      "EfficientNet-B0 Accuracy on clean test images: 94.04%\n"
     ]
    }
   ],
   "source": [
    "\n",
    "# Evaluation function\n",
    "def test_model(model, dataloader, model_name):\n",
    "    model.eval()\n",
    "    correct = 0\n",
    "    total = 0\n",
    "    with torch.no_grad():\n",
    "        for images, labels in dataloader:\n",
    "            images, labels = images.to(device), labels.to(device)\n",
    "            outputs = model(images)\n",
    "            _, predicted = torch.max(outputs.data, 1)\n",
    "            total += labels.size(0)\n",
    "            correct += (predicted == labels).sum().item()\n",
    "\n",
    "    accuracy = 100 * correct / total\n",
    "    print(f'{model_name} Accuracy on clean test images: {accuracy:.2f}%')\n",
    "    return accuracy\n",
    "\n",
    "clean_accuracy_vgg = test_model(model_vgg, testloader, \"VGG-16\")\n",
    "clean_accuracy_resnet = test_model(model_resnet, testloader, \"ResNet18\")\n",
    "clean_accuracy_efficient = test_model(model_efficient, testloader, \"EfficientNet-B0\")\n"
   ]
  },
  {
   "cell_type": "markdown",
   "id": "9cec22ba",
   "metadata": {},
   "source": [
    "# **6. Setting up for evaluating Adversarial attacks**"
   ]
  },
  {
   "cell_type": "code",
   "execution_count": 14,
   "id": "bb28f3e6",
   "metadata": {
    "id": "bb28f3e6"
   },
   "outputs": [],
   "source": [
    "# Function to evaluate adversarial attacks\n",
    "def test_adversarial_attack(model, attack, attack_name):\n",
    "    model.eval()\n",
    "    correct = 0\n",
    "    total = 0\n",
    "    success_count = 0\n",
    "    start_time = time.time()\n",
    "\n",
    "    for images, labels in testloader:\n",
    "        images, labels = images.to(device), labels.to(device)\n",
    "        adv_images = attack(images, labels)\n",
    "        outputs = model(adv_images)\n",
    "        _, predicted = torch.max(outputs.data, 1)\n",
    "\n",
    "        total += labels.size(0)\n",
    "        correct += (predicted == labels).sum().item()\n",
    "        success_count += (predicted != labels).sum().item()\n",
    "\n",
    "    end_time = time.time()\n",
    "    attack_time = end_time - start_time\n",
    "    attack_accuracy = 100 * correct / total\n",
    "    attack_success_rate = 100 * success_count / total\n",
    "\n",
    "    print(f'{attack_name} Attack Results:')\n",
    "    print(f' - Accuracy after attack: {attack_accuracy:.2f}%')\n",
    "    print(f' - Attack Success Rate: {attack_success_rate:.2f}%')\n",
    "    print(f' - Time Taken: {attack_time:.2f} seconds\\n')\n",
    "\n",
    "    return attack_accuracy, attack_success_rate, attack_time"
   ]
  },
  {
   "cell_type": "markdown",
   "id": "39a5a50d",
   "metadata": {
    "id": "39a5a50d"
   },
   "source": [
    "# **6.1 Evaluating Adversarial Robustness of VGG-16**"
   ]
  },
  {
   "cell_type": "code",
   "execution_count": 13,
   "id": "90a964c2",
   "metadata": {
    "id": "90a964c2"
   },
   "outputs": [],
   "source": [
    "# Define adversarial attacks\n",
    "attacks = {\n",
    "    \"FGSM\": torchattacks.FGSM(model_vgg, eps=0.03),\n",
    "    \"PGD\": torchattacks.PGD(model_vgg, eps=0.03, alpha=0.01, steps=40),\n",
    "    \"DeepFool\": torchattacks.DeepFool(model_vgg, steps=50),\n",
    "    \"BIM\": torchattacks.BIM(model_vgg, eps=0.03, alpha=0.01, steps=10),\n",
    "    \"C&W\": torchattacks.CW(model_vgg, c=1, kappa=0, steps=100, lr=0.01)\n",
    "}"
   ]
  },
  {
   "cell_type": "code",
   "execution_count": 15,
   "id": "77973ea1",
   "metadata": {
    "id": "77973ea1"
   },
   "outputs": [
    {
     "name": "stdout",
     "output_type": "stream",
     "text": [
      "FGSM Attack Results:\n",
      " - Accuracy after attack: 30.84%\n",
      " - Attack Success Rate: 69.16%\n",
      " - Time Taken: 1136.87 seconds\n",
      "\n",
      "PGD Attack Results:\n",
      " - Accuracy after attack: 0.08%\n",
      " - Attack Success Rate: 99.92%\n",
      " - Time Taken: 55678.39 seconds\n",
      "\n",
      "DeepFool Attack Results:\n",
      " - Accuracy after attack: 1.24%\n",
      " - Attack Success Rate: 98.76%\n",
      " - Time Taken: 50343.89 seconds\n",
      "\n",
      "BIM Attack Results:\n",
      " - Accuracy after attack: 2.86%\n",
      " - Attack Success Rate: 97.14%\n",
      " - Time Taken: 14308.26 seconds\n",
      "\n",
      "C&W Attack Results:\n",
      " - Accuracy after attack: 0.76%\n",
      " - Attack Success Rate: 99.24%\n",
      " - Time Taken: 102869.43 seconds\n",
      "\n",
      "\n",
      "Final Adversarial Attack Summary:\n",
      "FGSM:\n",
      " - Accuracy After Attack: 30.84%\n",
      " - Attack Success Rate: 69.16%\n",
      " - Time Taken: 1136.87 sec\n",
      "\n",
      "PGD:\n",
      " - Accuracy After Attack: 0.08%\n",
      " - Attack Success Rate: 99.92%\n",
      " - Time Taken: 55678.39 sec\n",
      "\n",
      "DeepFool:\n",
      " - Accuracy After Attack: 1.24%\n",
      " - Attack Success Rate: 98.76%\n",
      " - Time Taken: 50343.89 sec\n",
      "\n",
      "BIM:\n",
      " - Accuracy After Attack: 2.86%\n",
      " - Attack Success Rate: 97.14%\n",
      " - Time Taken: 14308.26 sec\n",
      "\n",
      "C&W:\n",
      " - Accuracy After Attack: 0.76%\n",
      " - Attack Success Rate: 99.24%\n",
      " - Time Taken: 102869.43 sec\n",
      "\n"
     ]
    }
   ],
   "source": [
    "# Run attacks and collect results\n",
    "attack_results = {}\n",
    "\n",
    "for attack_name, attack in attacks.items():\n",
    "    attack_results[attack_name] = test_adversarial_attack(model_vgg, attack, attack_name)\n",
    "\n",
    "# Print summary\n",
    "print(\"\\nFinal Adversarial Attack Summary:\")\n",
    "for attack, (acc, success_rate, time_taken) in attack_results.items():\n",
    "    print(f\"{attack}:\")\n",
    "    print(f\" - Accuracy After Attack: {acc:.2f}%\")\n",
    "    print(f\" - Attack Success Rate: {success_rate:.2f}%\")\n",
    "    print(f\" - Time Taken: {time_taken:.2f} sec\\n\")"
   ]
  },
  {
   "cell_type": "markdown",
   "id": "18ac9449",
   "metadata": {},
   "source": [
    "# **6.2 Evaluating Adversarial Robustness of ResNet18**"
   ]
  },
  {
   "cell_type": "code",
   "execution_count": 16,
   "id": "41cd08b5-0552-416f-b7bb-f00bb1e1a42d",
   "metadata": {},
   "outputs": [],
   "source": [
    "# Define adversarial attacks\n",
    "attacks = {\n",
    "    \"FGSM\": torchattacks.FGSM(model_resnet, eps=0.03),\n",
    "    \"PGD\": torchattacks.PGD(model_resnet, eps=0.03, alpha=0.01, steps=40),\n",
    "    \"DeepFool\": torchattacks.DeepFool(model_resnet, steps=50),\n",
    "    \"BIM\": torchattacks.BIM(model_resnet, eps=0.03, alpha=0.01, steps=10),\n",
    "    \"C&W\": torchattacks.CW(model_resnet, c=1, kappa=0, steps=100, lr=0.01)\n",
    "}"
   ]
  },
  {
   "cell_type": "code",
   "execution_count": 17,
   "id": "354fbbdc-30d8-43d5-85cf-8bf43231290a",
   "metadata": {},
   "outputs": [
    {
     "name": "stdout",
     "output_type": "stream",
     "text": [
      "FGSM Attack Results:\n",
      " - Accuracy after attack: 22.13%\n",
      " - Attack Success Rate: 77.87%\n",
      " - Time Taken: 490.19 seconds\n",
      "\n",
      "PGD Attack Results:\n",
      " - Accuracy after attack: 0.08%\n",
      " - Attack Success Rate: 99.92%\n",
      " - Time Taken: 15480.17 seconds\n",
      "\n",
      "DeepFool Attack Results:\n",
      " - Accuracy after attack: 16.75%\n",
      " - Attack Success Rate: 83.25%\n",
      " - Time Taken: 32703.17 seconds\n",
      "\n",
      "BIM Attack Results:\n",
      " - Accuracy after attack: 7.18%\n",
      " - Attack Success Rate: 92.82%\n",
      " - Time Taken: 2272.65 seconds\n",
      "\n",
      "C&W Attack Results:\n",
      " - Accuracy after attack: 3.40%\n",
      " - Attack Success Rate: 96.60%\n",
      " - Time Taken: 34949.77 seconds\n",
      "\n",
      "\n",
      "Final Adversarial Attack Summary on ResNet18:\n",
      "FGSM:\n",
      " - Accuracy After Attack: 22.13%\n",
      " - Attack Success Rate: 77.87%\n",
      " - Time Taken: 490.19 sec\n",
      "\n",
      "PGD:\n",
      " - Accuracy After Attack: 0.08%\n",
      " - Attack Success Rate: 99.92%\n",
      " - Time Taken: 15480.17 sec\n",
      "\n",
      "DeepFool:\n",
      " - Accuracy After Attack: 16.75%\n",
      " - Attack Success Rate: 83.25%\n",
      " - Time Taken: 32703.17 sec\n",
      "\n",
      "BIM:\n",
      " - Accuracy After Attack: 7.18%\n",
      " - Attack Success Rate: 92.82%\n",
      " - Time Taken: 2272.65 sec\n",
      "\n",
      "C&W:\n",
      " - Accuracy After Attack: 3.40%\n",
      " - Attack Success Rate: 96.60%\n",
      " - Time Taken: 34949.77 sec\n",
      "\n"
     ]
    }
   ],
   "source": [
    "# ReRun Resnet attacks and collect results\n",
    "attack_results = {}\n",
    "\n",
    "for attack_name, attack in attacks.items():\n",
    "    attack_results[attack_name] = test_adversarial_attack(model_resnet, attack, attack_name)\n",
    "\n",
    "# Print summary\n",
    "print(\"\\nFinal Adversarial Attack Summary on ResNet18:\")\n",
    "for attack, (acc, success_rate, time_taken) in attack_results.items():\n",
    "    print(f\"{attack}:\")\n",
    "    print(f\" - Accuracy After Attack: {acc:.2f}%\")\n",
    "    print(f\" - Attack Success Rate: {success_rate:.2f}%\")\n",
    "    print(f\" - Time Taken: {time_taken:.2f} sec\\n\")"
   ]
  },
  {
   "cell_type": "markdown",
   "id": "7743c95b",
   "metadata": {},
   "source": [
    "# **6.3 Evaluating Adversarial Robustness of EfficientNet-B0**"
   ]
  },
  {
   "cell_type": "code",
   "execution_count": 18,
   "id": "f03c479d-4447-47c3-8684-37275517e1a3",
   "metadata": {},
   "outputs": [],
   "source": [
    "# Define adversarial attacks\n",
    "attacks = {\n",
    "    \"FGSM\": torchattacks.FGSM(model_efficient, eps=0.03),\n",
    "    \"PGD\": torchattacks.PGD(model_efficient, eps=0.03, alpha=0.01, steps=40),\n",
    "    \"DeepFool\": torchattacks.DeepFool(model_efficient, steps=50),\n",
    "    \"BIM\": torchattacks.BIM(model_efficient, eps=0.03, alpha=0.01, steps=10),\n",
    "    \"C&W\": torchattacks.CW(model_efficient, c=1, kappa=0, steps=100, lr=0.01)\n",
    "}"
   ]
  },
  {
   "cell_type": "code",
   "execution_count": 19,
   "id": "ffeacf31-2056-47ba-b5ae-a5af699d4fac",
   "metadata": {},
   "outputs": [
    {
     "name": "stdout",
     "output_type": "stream",
     "text": [
      "FGSM Attack Results:\n",
      " - Accuracy after attack: 19.88%\n",
      " - Attack Success Rate: 80.12%\n",
      " - Time Taken: 303.81 seconds\n",
      "\n",
      "PGD Attack Results:\n",
      " - Accuracy after attack: 0.00%\n",
      " - Attack Success Rate: 100.00%\n",
      " - Time Taken: 9531.37 seconds\n",
      "\n",
      "DeepFool Attack Results:\n",
      " - Accuracy after attack: 21.89%\n",
      " - Attack Success Rate: 78.11%\n",
      " - Time Taken: 17870.39 seconds\n",
      "\n",
      "BIM Attack Results:\n",
      " - Accuracy after attack: 0.77%\n",
      " - Attack Success Rate: 99.23%\n",
      " - Time Taken: 2338.60 seconds\n",
      "\n",
      "C&W Attack Results:\n",
      " - Accuracy after attack: 0.00%\n",
      " - Attack Success Rate: 100.00%\n",
      " - Time Taken: 14945.31 seconds\n",
      "\n",
      "\n",
      "Final Adversarial Attack Summary on EfficientNet-B0:\n",
      "FGSM:\n",
      " - Accuracy After Attack: 19.88%\n",
      " - Attack Success Rate: 80.12%\n",
      " - Time Taken: 303.81 sec\n",
      "\n",
      "PGD:\n",
      " - Accuracy After Attack: 0.00%\n",
      " - Attack Success Rate: 100.00%\n",
      " - Time Taken: 9531.37 sec\n",
      "\n",
      "DeepFool:\n",
      " - Accuracy After Attack: 21.89%\n",
      " - Attack Success Rate: 78.11%\n",
      " - Time Taken: 17870.39 sec\n",
      "\n",
      "BIM:\n",
      " - Accuracy After Attack: 0.77%\n",
      " - Attack Success Rate: 99.23%\n",
      " - Time Taken: 2338.60 sec\n",
      "\n",
      "C&W:\n",
      " - Accuracy After Attack: 0.00%\n",
      " - Attack Success Rate: 100.00%\n",
      " - Time Taken: 14945.31 sec\n",
      "\n"
     ]
    }
   ],
   "source": [
    "# ReRun attacks and collect results\n",
    "attack_results = {}\n",
    "\n",
    "for attack_name, attack in attacks.items():\n",
    "    attack_results[attack_name] = test_adversarial_attack(model_efficient, attack, attack_name)\n",
    "\n",
    "# Print summary\n",
    "print(\"\\nFinal Adversarial Attack Summary on EfficientNet-B0:\")\n",
    "for attack, (acc, success_rate, time_taken) in attack_results.items():\n",
    "    print(f\"{attack}:\")\n",
    "    print(f\" - Accuracy After Attack: {acc:.2f}%\")\n",
    "    print(f\" - Attack Success Rate: {success_rate:.2f}%\")\n",
    "    print(f\" - Time Taken: {time_taken:.2f} sec\\n\")"
   ]
  },
  {
   "cell_type": "code",
   "execution_count": null,
   "id": "31d08ea1-a64e-47ba-b49f-b7b0e7ab8d2f",
   "metadata": {},
   "outputs": [],
   "source": []
  }
 ],
 "metadata": {
  "accelerator": "GPU",
  "colab": {
   "gpuType": "T4",
   "provenance": []
  },
  "kernelspec": {
   "display_name": "Python 3 (ipykernel)",
   "language": "python",
   "name": "python3"
  },
  "language_info": {
   "codemirror_mode": {
    "name": "ipython",
    "version": 3
   },
   "file_extension": ".py",
   "mimetype": "text/x-python",
   "name": "python",
   "nbconvert_exporter": "python",
   "pygments_lexer": "ipython3",
   "version": "3.13.2"
  }
 },
 "nbformat": 4,
 "nbformat_minor": 5
}
