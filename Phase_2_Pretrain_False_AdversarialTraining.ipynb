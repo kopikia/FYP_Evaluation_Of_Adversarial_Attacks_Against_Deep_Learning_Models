{
 "cells": [
  {
   "cell_type": "markdown",
   "id": "8d5703c0",
   "metadata": {},
   "source": [
    "# **Adversarial Training and Robustness of VGG-16, ResNet18, and EfficientNet-B0 on CIFAR-10**\n",
    "# **Pretrain=False, 10 epoch**"
   ]
  },
  {
   "cell_type": "markdown",
   "id": "a001c94d",
   "metadata": {},
   "source": [
    "## **1. Import Required Libraries**"
   ]
  },
  {
   "cell_type": "code",
   "execution_count": 1,
   "id": "b48808eb",
   "metadata": {},
   "outputs": [
    {
     "name": "stdout",
     "output_type": "stream",
     "text": [
      "Using device: cuda\n"
     ]
    }
   ],
   "source": [
    "\n",
    "import torch\n",
    "import torch.nn as nn\n",
    "import torch.optim as optim\n",
    "import torchvision\n",
    "import torchvision.transforms as transforms\n",
    "import torchattacks\n",
    "import time\n",
    "import pandas as pd\n",
    "from torchvision import models\n",
    "\n",
    "# Check for GPU\n",
    "device = torch.device(\"cuda\" if torch.cuda.is_available() else \"cpu\")\n",
    "print(f'Using device: {device}')\n"
   ]
  },
  {
   "cell_type": "markdown",
   "id": "4487f59a",
   "metadata": {},
   "source": [
    "## **2. Load CIFAR-10 Dataset**"
   ]
  },
  {
   "cell_type": "code",
   "execution_count": 2,
   "id": "f78c4989",
   "metadata": {},
   "outputs": [],
   "source": [
    "\n",
    "# Load CIFAR-10 dataset\n",
    "transform = transforms.Compose([\n",
    "    transforms.Resize((224, 224)),  # Resize for consistency across models\n",
    "    transforms.ToTensor(),\n",
    "    transforms.Normalize((0.5,), (0.5,))\n",
    "])\n",
    "\n",
    "trainset = torchvision.datasets.CIFAR10(root='./data', train=True, download=True, transform=transform)\n",
    "trainloader = torch.utils.data.DataLoader(trainset, batch_size=64, shuffle=True)\n",
    "\n",
    "testset = torchvision.datasets.CIFAR10(root='./data', train=False, download=True, transform=transform)\n",
    "testloader = torch.utils.data.DataLoader(testset, batch_size=64, shuffle=False)\n"
   ]
  },
  {
   "cell_type": "markdown",
   "id": "d91f534e",
   "metadata": {},
   "source": [
    "# **3. Defining Models From torchvision**"
   ]
  },
  {
   "cell_type": "markdown",
   "id": "f1d199c6",
   "metadata": {},
   "source": [
    "## **3.1 Define VGG-16 Model**"
   ]
  },
  {
   "cell_type": "code",
   "execution_count": 3,
   "id": "3b158bd9",
   "metadata": {},
   "outputs": [
    {
     "name": "stderr",
     "output_type": "stream",
     "text": [
      "c:\\Users\\cheey\\anaconda3\\lib\\site-packages\\torchvision\\models\\_utils.py:208: UserWarning: The parameter 'pretrained' is deprecated since 0.13 and may be removed in the future, please use 'weights' instead.\n",
      "  warnings.warn(\n",
      "c:\\Users\\cheey\\anaconda3\\lib\\site-packages\\torchvision\\models\\_utils.py:223: UserWarning: Arguments other than a weight enum or `None` for 'weights' are deprecated since 0.13 and may be removed in the future. The current behavior is equivalent to passing `weights=None`.\n",
      "  warnings.warn(msg)\n"
     ]
    }
   ],
   "source": [
    "\n",
    "# Load pre-defined VGG-16 model from torchvision\n",
    "class VGG16(nn.Module):\n",
    "    def __init__(self):\n",
    "        super(VGG16, self).__init__()\n",
    "        self.model = models.vgg16(pretrained=False)\n",
    "        num_ftrs = self.model.classifier[6].in_features\n",
    "        self.model.classifier[6] = nn.Linear(num_ftrs, 10)  # Adjust for CIFAR-10 classes\n",
    "\n",
    "    def forward(self, x):\n",
    "        return self.model(x)\n",
    "\n",
    "# Initialize model\n",
    "model_vgg = VGG16().to(device)\n",
    "criterion = nn.CrossEntropyLoss()\n",
    "optimizer_vgg = optim.Adam(model_vgg.parameters(), lr=0.001)\n"
   ]
  },
  {
   "cell_type": "markdown",
   "id": "c93eba33",
   "metadata": {},
   "source": [
    "## **3.2 Define ResNet18 Model**"
   ]
  },
  {
   "cell_type": "code",
   "execution_count": 4,
   "id": "cbee3bd9",
   "metadata": {},
   "outputs": [],
   "source": [
    "\n",
    "# Load pre-defined ResNet18 model from torchvision\n",
    "class ResNet18(nn.Module):\n",
    "    def __init__(self):\n",
    "        super(ResNet18, self).__init__()\n",
    "        self.model = models.resnet18(pretrained=False)\n",
    "        num_ftrs = self.model.fc.in_features\n",
    "        self.model.fc = nn.Linear(num_ftrs, 10)  # Adjust for CIFAR-10 classes\n",
    "\n",
    "    def forward(self, x):\n",
    "        return self.model(x)\n",
    "\n",
    "# Initialize model\n",
    "model_resnet = ResNet18().to(device)\n",
    "optimizer_resnet = optim.Adam(model_resnet.parameters(), lr=0.001)\n"
   ]
  },
  {
   "cell_type": "markdown",
   "id": "182d4e73",
   "metadata": {},
   "source": [
    "## **3.3 Define EfficientNet-B0 Model**"
   ]
  },
  {
   "cell_type": "code",
   "execution_count": 5,
   "id": "89fc3eca",
   "metadata": {},
   "outputs": [],
   "source": [
    "\n",
    "# Load pre-defined EfficientNet-B0 model from torchvision\n",
    "class EfficientNetB0(nn.Module):\n",
    "    def __init__(self):\n",
    "        super(EfficientNetB0, self).__init__()\n",
    "        self.model = models.efficientnet_b0(pretrained=False)\n",
    "        num_ftrs = self.model.classifier[1].in_features\n",
    "        self.model.classifier[1] = nn.Linear(num_ftrs, 10)  # Adjust for CIFAR-10 classes\n",
    "\n",
    "    def forward(self, x):\n",
    "        return self.model(x)\n",
    "\n",
    "# Initialize model\n",
    "model_efficient = EfficientNetB0().to(device)\n",
    "optimizer_efficient = optim.Adam(model_efficient.parameters(), lr=0.001)\n"
   ]
  },
  {
   "cell_type": "markdown",
   "id": "62d1f850",
   "metadata": {},
   "source": [
    "## **4. Train the Models with Adversarial Training (FGSM)**"
   ]
  },
  {
   "cell_type": "code",
   "execution_count": 6,
   "id": "ec10a8c7",
   "metadata": {},
   "outputs": [
    {
     "data": {
      "text/plain": [
       "0"
      ]
     },
     "execution_count": 6,
     "metadata": {},
     "output_type": "execute_result"
    }
   ],
   "source": [
    "import gc\n",
    "torch.cuda.empty_cache()\n",
    "gc.collect()\n"
   ]
  },
  {
   "cell_type": "code",
   "execution_count": 7,
   "id": "1c0c3fa2",
   "metadata": {},
   "outputs": [
    {
     "name": "stdout",
     "output_type": "stream",
     "text": [
      "Training VGG-16 with FGSM adversarial training...\n",
      "VGG-16 - Epoch 1, Loss: 2.4399\n",
      "VGG-16 - Epoch 2, Loss: 2.3028\n",
      "VGG-16 - Epoch 3, Loss: 2.3028\n",
      "VGG-16 - Epoch 4, Loss: 2.3028\n",
      "VGG-16 - Epoch 5, Loss: 2.3028\n",
      "VGG-16 - Epoch 6, Loss: 2.3028\n",
      "VGG-16 - Epoch 7, Loss: 2.3027\n",
      "VGG-16 - Epoch 8, Loss: 2.3027\n",
      "VGG-16 - Epoch 9, Loss: 2.3027\n",
      "VGG-16 - Epoch 10, Loss: 2.3028\n",
      "Training ResNet18 with FGSM adversarial training...\n",
      "ResNet18 - Epoch 1, Loss: 1.7130\n",
      "ResNet18 - Epoch 2, Loss: 1.4684\n",
      "ResNet18 - Epoch 3, Loss: 1.2083\n",
      "ResNet18 - Epoch 4, Loss: 1.0092\n",
      "ResNet18 - Epoch 5, Loss: 0.8879\n",
      "ResNet18 - Epoch 6, Loss: 0.7052\n",
      "ResNet18 - Epoch 7, Loss: 0.6489\n",
      "ResNet18 - Epoch 8, Loss: 0.5771\n",
      "ResNet18 - Epoch 9, Loss: 0.4361\n",
      "ResNet18 - Epoch 10, Loss: 0.3748\n",
      "Training EfficientNet-B0 with FGSM adversarial training...\n",
      "EfficientNet-B0 - Epoch 1, Loss: 1.8485\n",
      "EfficientNet-B0 - Epoch 2, Loss: 1.3872\n",
      "EfficientNet-B0 - Epoch 3, Loss: 1.3185\n",
      "EfficientNet-B0 - Epoch 4, Loss: 1.1860\n",
      "EfficientNet-B0 - Epoch 5, Loss: 1.0651\n",
      "EfficientNet-B0 - Epoch 6, Loss: 0.9358\n",
      "EfficientNet-B0 - Epoch 7, Loss: 0.8095\n",
      "EfficientNet-B0 - Epoch 8, Loss: 0.7094\n",
      "EfficientNet-B0 - Epoch 9, Loss: 0.6253\n",
      "EfficientNet-B0 - Epoch 10, Loss: 0.5610\n"
     ]
    }
   ],
   "source": [
    "\n",
    "# FGSM attack for adversarial training\n",
    "def adversarial_training(model, optimizer, model_name, epochs=10):\n",
    "    fgsm_attack = torchattacks.FGSM(model, eps=0.03)\n",
    "    model.train()\n",
    "    for epoch in range(epochs):\n",
    "        running_loss = 0.0\n",
    "        for images, labels in trainloader:\n",
    "            images, labels = images.to(device), labels.to(device)\n",
    "\n",
    "            # Generate adversarial examples using FGSM\n",
    "            adv_images = fgsm_attack(images, labels)\n",
    "\n",
    "            optimizer.zero_grad()\n",
    "            outputs = model(adv_images)\n",
    "            loss = criterion(outputs, labels)\n",
    "            loss.backward()\n",
    "            optimizer.step()\n",
    "\n",
    "            running_loss += loss.item()\n",
    "\n",
    "        print(f\"{model_name} - Epoch {epoch+1}, Loss: {running_loss/len(trainloader):.4f}\")\n",
    "\n",
    "print(\"Training VGG-16 with FGSM adversarial training...\")\n",
    "adversarial_training(model_vgg, optimizer_vgg, \"VGG-16\")\n",
    "\n",
    "print(\"Training ResNet18 with FGSM adversarial training...\")\n",
    "adversarial_training(model_resnet, optimizer_resnet, \"ResNet18\")\n",
    "\n",
    "print(\"Training EfficientNet-B0 with FGSM adversarial training...\")\n",
    "adversarial_training(model_efficient, optimizer_efficient, \"EfficientNet-B0\")\n"
   ]
  },
  {
   "cell_type": "markdown",
   "id": "abc64ae5",
   "metadata": {},
   "source": [
    "## **5. Evaluate Models on Clean Test Images**"
   ]
  },
  {
   "cell_type": "code",
   "execution_count": 8,
   "id": "7abfda66",
   "metadata": {},
   "outputs": [
    {
     "name": "stdout",
     "output_type": "stream",
     "text": [
      "VGG-16 Accuracy on clean test images: 10.00%\n",
      "ResNet18 Accuracy on clean test images: 15.56%\n",
      "EfficientNet-B0 Accuracy on clean test images: 20.55%\n"
     ]
    }
   ],
   "source": [
    "\n",
    "# Evaluation function\n",
    "def test_model(model, dataloader, model_name):\n",
    "    model.eval()\n",
    "    correct = 0\n",
    "    total = 0\n",
    "    with torch.no_grad():\n",
    "        for images, labels in dataloader:\n",
    "            images, labels = images.to(device), labels.to(device)\n",
    "            outputs = model(images)\n",
    "            _, predicted = torch.max(outputs.data, 1)\n",
    "            total += labels.size(0)\n",
    "            correct += (predicted == labels).sum().item()\n",
    "\n",
    "    accuracy = 100 * correct / total\n",
    "    print(f'{model_name} Accuracy on clean test images: {accuracy:.2f}%')\n",
    "    return accuracy\n",
    "\n",
    "clean_accuracy_vgg = test_model(model_vgg, testloader, \"VGG-16\")\n",
    "clean_accuracy_resnet = test_model(model_resnet, testloader, \"ResNet18\")\n",
    "clean_accuracy_effnet = test_model(model_efficient, testloader, \"EfficientNet-B0\")\n"
   ]
  },
  {
   "cell_type": "markdown",
   "id": "c57ddbae",
   "metadata": {},
   "source": [
    "# **6. Setting up for evaluating Adversarial attacks**"
   ]
  },
  {
   "cell_type": "code",
   "execution_count": 10,
   "id": "2de8a3e0",
   "metadata": {},
   "outputs": [],
   "source": [
    "# Function to evaluate adversarial attacks\n",
    "def test_adversarial_attack(model, attack, attack_name):\n",
    "    model.eval()\n",
    "    correct = 0\n",
    "    total = 0\n",
    "    success_count = 0\n",
    "    start_time = time.time()\n",
    "\n",
    "    for images, labels in testloader:\n",
    "        images, labels = images.to(device), labels.to(device)\n",
    "        adv_images = attack(images, labels)\n",
    "        outputs = model(adv_images)\n",
    "        _, predicted = torch.max(outputs.data, 1)\n",
    "\n",
    "        total += labels.size(0)\n",
    "        correct += (predicted == labels).sum().item()\n",
    "        success_count += (predicted != labels).sum().item()\n",
    "\n",
    "    end_time = time.time()\n",
    "    attack_time = end_time - start_time\n",
    "    attack_accuracy = 100 * correct / total\n",
    "    attack_success_rate = 100 * success_count / total\n",
    "\n",
    "    print(f'{attack_name} Attack Results:')\n",
    "    print(f' - Accuracy after attack: {attack_accuracy:.2f}%')\n",
    "    print(f' - Attack Success Rate: {attack_success_rate:.2f}%')\n",
    "    print(f' - Time Taken: {attack_time:.2f} seconds\\n')\n",
    "\n",
    "    return attack_accuracy, attack_success_rate, attack_time"
   ]
  },
  {
   "cell_type": "markdown",
   "id": "adbededc",
   "metadata": {},
   "source": [
    "# **6.1 Evaluating Adversarial Robustness of VGG-16 with Adversarial Training (FGSM)**"
   ]
  },
  {
   "cell_type": "code",
   "execution_count": 9,
   "id": "9cb58050",
   "metadata": {},
   "outputs": [],
   "source": [
    "# Define adversarial attacks\n",
    "attacks = {\n",
    "    \"FGSM\": torchattacks.FGSM(model_vgg, eps=0.03),\n",
    "    \"PGD\": torchattacks.PGD(model_vgg, eps=0.03, alpha=0.01, steps=40),\n",
    "    \"DeepFool\": torchattacks.DeepFool(model_vgg, steps=50),\n",
    "    \"BIM\": torchattacks.BIM(model_vgg, eps=0.03, alpha=0.01, steps=10),\n",
    "    \"C&W\": torchattacks.CW(model_vgg, c=1, kappa=0, steps=100, lr=0.01)\n",
    "}"
   ]
  },
  {
   "cell_type": "code",
   "execution_count": 11,
   "id": "b7b3c894",
   "metadata": {},
   "outputs": [
    {
     "name": "stdout",
     "output_type": "stream",
     "text": [
      "FGSM Attack Results:\n",
      " - Accuracy after attack: 10.00%\n",
      " - Attack Success Rate: 90.00%\n",
      " - Time Taken: 2092.51 seconds\n",
      "\n",
      "PGD Attack Results:\n",
      " - Accuracy after attack: 10.00%\n",
      " - Attack Success Rate: 90.00%\n",
      " - Time Taken: 62314.70 seconds\n",
      "\n",
      "DeepFool Attack Results:\n",
      " - Accuracy after attack: 0.00%\n",
      " - Attack Success Rate: 100.00%\n",
      " - Time Taken: 2639.37 seconds\n",
      "\n",
      "BIM Attack Results:\n",
      " - Accuracy after attack: 10.00%\n",
      " - Attack Success Rate: 90.00%\n",
      " - Time Taken: 18651.76 seconds\n",
      "\n",
      "C&W Attack Results:\n",
      " - Accuracy after attack: 10.00%\n",
      " - Attack Success Rate: 90.00%\n",
      " - Time Taken: 197441.46 seconds\n",
      "\n",
      "\n",
      "Final Adversarial Attack Summary on VGG-16:\n",
      "FGSM:\n",
      " - Accuracy After Attack: 10.00%\n",
      " - Attack Success Rate: 90.00%\n",
      " - Time Taken: 2092.51 sec\n",
      "\n",
      "PGD:\n",
      " - Accuracy After Attack: 10.00%\n",
      " - Attack Success Rate: 90.00%\n",
      " - Time Taken: 62314.70 sec\n",
      "\n",
      "DeepFool:\n",
      " - Accuracy After Attack: 0.00%\n",
      " - Attack Success Rate: 100.00%\n",
      " - Time Taken: 2639.37 sec\n",
      "\n",
      "BIM:\n",
      " - Accuracy After Attack: 10.00%\n",
      " - Attack Success Rate: 90.00%\n",
      " - Time Taken: 18651.76 sec\n",
      "\n",
      "C&W:\n",
      " - Accuracy After Attack: 10.00%\n",
      " - Attack Success Rate: 90.00%\n",
      " - Time Taken: 197441.46 sec\n",
      "\n"
     ]
    }
   ],
   "source": [
    "# Run attacks and collect results\n",
    "attack_results = {}\n",
    "\n",
    "for attack_name, attack in attacks.items():\n",
    "    attack_results[attack_name] = test_adversarial_attack(model_vgg, attack, attack_name)\n",
    "\n",
    "# Print summary\n",
    "print(\"\\nFinal Adversarial Attack Summary on VGG-16:\")\n",
    "for attack, (acc, success_rate, time_taken) in attack_results.items():\n",
    "    print(f\"{attack}:\")\n",
    "    print(f\" - Accuracy After Attack: {acc:.2f}%\")\n",
    "    print(f\" - Attack Success Rate: {success_rate:.2f}%\")\n",
    "    print(f\" - Time Taken: {time_taken:.2f} sec\\n\")"
   ]
  },
  {
   "cell_type": "markdown",
   "id": "efc38f91",
   "metadata": {},
   "source": [
    "# **6.2 Evaluating Adversarial Robustness of ResNet18 with Adversarial Training (FGSM)**"
   ]
  },
  {
   "cell_type": "code",
   "execution_count": 12,
   "id": "7d643d75",
   "metadata": {},
   "outputs": [],
   "source": [
    "# Define adversarial attacks\n",
    "attacks = {\n",
    "    \"FGSM\": torchattacks.FGSM(model_resnet, eps=0.03),\n",
    "    \"PGD\": torchattacks.PGD(model_resnet, eps=0.03, alpha=0.01, steps=40),\n",
    "    \"DeepFool\": torchattacks.DeepFool(model_resnet, steps=50),\n",
    "    \"BIM\": torchattacks.BIM(model_resnet, eps=0.03, alpha=0.01, steps=10),\n",
    "    \"C&W\": torchattacks.CW(model_resnet, c=1, kappa=0, steps=100, lr=0.01)\n",
    "}"
   ]
  },
  {
   "cell_type": "code",
   "execution_count": 13,
   "id": "049025b0",
   "metadata": {},
   "outputs": [
    {
     "name": "stdout",
     "output_type": "stream",
     "text": [
      "FGSM Attack Results:\n",
      " - Accuracy after attack: 74.46%\n",
      " - Attack Success Rate: 25.54%\n",
      " - Time Taken: 232.66 seconds\n",
      "\n",
      "PGD Attack Results:\n",
      " - Accuracy after attack: 6.46%\n",
      " - Attack Success Rate: 93.54%\n",
      " - Time Taken: 3336.66 seconds\n",
      "\n",
      "DeepFool Attack Results:\n",
      " - Accuracy after attack: 6.04%\n",
      " - Attack Success Rate: 93.96%\n",
      " - Time Taken: 43134.19 seconds\n",
      "\n",
      "BIM Attack Results:\n",
      " - Accuracy after attack: 7.89%\n",
      " - Attack Success Rate: 92.11%\n",
      " - Time Taken: 1779.63 seconds\n",
      "\n",
      "C&W Attack Results:\n",
      " - Accuracy after attack: 3.75%\n",
      " - Attack Success Rate: 96.25%\n",
      " - Time Taken: 9772.34 seconds\n",
      "\n",
      "\n",
      "Final Adversarial Attack Summary on ResNet18:\n",
      "FGSM:\n",
      " - Accuracy After Attack: 74.46%\n",
      " - Attack Success Rate: 25.54%\n",
      " - Time Taken: 232.66 sec\n",
      "\n",
      "PGD:\n",
      " - Accuracy After Attack: 6.46%\n",
      " - Attack Success Rate: 93.54%\n",
      " - Time Taken: 3336.66 sec\n",
      "\n",
      "DeepFool:\n",
      " - Accuracy After Attack: 6.04%\n",
      " - Attack Success Rate: 93.96%\n",
      " - Time Taken: 43134.19 sec\n",
      "\n",
      "BIM:\n",
      " - Accuracy After Attack: 7.89%\n",
      " - Attack Success Rate: 92.11%\n",
      " - Time Taken: 1779.63 sec\n",
      "\n",
      "C&W:\n",
      " - Accuracy After Attack: 3.75%\n",
      " - Attack Success Rate: 96.25%\n",
      " - Time Taken: 9772.34 sec\n",
      "\n"
     ]
    }
   ],
   "source": [
    "# Run attacks and collect results\n",
    "attack_results = {}\n",
    "\n",
    "for attack_name, attack in attacks.items():\n",
    "    attack_results[attack_name] = test_adversarial_attack(model_resnet, attack, attack_name)\n",
    "\n",
    "# Print summary\n",
    "print(\"\\nFinal Adversarial Attack Summary on ResNet18:\")\n",
    "for attack, (acc, success_rate, time_taken) in attack_results.items():\n",
    "    print(f\"{attack}:\")\n",
    "    print(f\" - Accuracy After Attack: {acc:.2f}%\")\n",
    "    print(f\" - Attack Success Rate: {success_rate:.2f}%\")\n",
    "    print(f\" - Time Taken: {time_taken:.2f} sec\\n\")"
   ]
  },
  {
   "cell_type": "markdown",
   "id": "80536889",
   "metadata": {},
   "source": [
    "# **6.3 Evaluating Adversarial Robustness of EfficientNet-B0 with Adversarial Training (FGSM)**"
   ]
  },
  {
   "cell_type": "code",
   "execution_count": 14,
   "id": "4b4ee875",
   "metadata": {},
   "outputs": [],
   "source": [
    "# Define adversarial attacks\n",
    "attacks = {\n",
    "    \"FGSM\": torchattacks.FGSM(model_efficient, eps=0.03),\n",
    "    \"PGD\": torchattacks.PGD(model_efficient, eps=0.03, alpha=0.01, steps=40),\n",
    "    \"DeepFool\": torchattacks.DeepFool(model_efficient, steps=50),\n",
    "    \"BIM\": torchattacks.BIM(model_efficient, eps=0.03, alpha=0.01, steps=10),\n",
    "    \"C&W\": torchattacks.CW(model_efficient, c=1, kappa=0, steps=100, lr=0.01)\n",
    "}"
   ]
  },
  {
   "cell_type": "code",
   "execution_count": 15,
   "id": "b3a04003",
   "metadata": {},
   "outputs": [
    {
     "name": "stdout",
     "output_type": "stream",
     "text": [
      "FGSM Attack Results:\n",
      " - Accuracy after attack: 76.14%\n",
      " - Attack Success Rate: 23.86%\n",
      " - Time Taken: 416.73 seconds\n",
      "\n",
      "PGD Attack Results:\n",
      " - Accuracy after attack: 0.49%\n",
      " - Attack Success Rate: 99.51%\n",
      " - Time Taken: 10423.11 seconds\n",
      "\n",
      "DeepFool Attack Results:\n",
      " - Accuracy after attack: 5.60%\n",
      " - Attack Success Rate: 94.40%\n",
      " - Time Taken: 4816.68 seconds\n",
      "\n",
      "BIM Attack Results:\n",
      " - Accuracy after attack: 3.76%\n",
      " - Attack Success Rate: 96.24%\n",
      " - Time Taken: 2663.36 seconds\n",
      "\n",
      "C&W Attack Results:\n",
      " - Accuracy after attack: 0.91%\n",
      " - Attack Success Rate: 99.09%\n",
      " - Time Taken: 38529.86 seconds\n",
      "\n",
      "\n",
      "Final Adversarial Attack Summary on EfficientNet-B0:\n",
      "FGSM:\n",
      " - Accuracy After Attack: 76.14%\n",
      " - Attack Success Rate: 23.86%\n",
      " - Time Taken: 416.73 sec\n",
      "\n",
      "PGD:\n",
      " - Accuracy After Attack: 0.49%\n",
      " - Attack Success Rate: 99.51%\n",
      " - Time Taken: 10423.11 sec\n",
      "\n",
      "DeepFool:\n",
      " - Accuracy After Attack: 5.60%\n",
      " - Attack Success Rate: 94.40%\n",
      " - Time Taken: 4816.68 sec\n",
      "\n",
      "BIM:\n",
      " - Accuracy After Attack: 3.76%\n",
      " - Attack Success Rate: 96.24%\n",
      " - Time Taken: 2663.36 sec\n",
      "\n",
      "C&W:\n",
      " - Accuracy After Attack: 0.91%\n",
      " - Attack Success Rate: 99.09%\n",
      " - Time Taken: 38529.86 sec\n",
      "\n"
     ]
    }
   ],
   "source": [
    "# Run attacks and collect results\n",
    "attack_results = {}\n",
    "\n",
    "for attack_name, attack in attacks.items():\n",
    "    attack_results[attack_name] = test_adversarial_attack(model_efficient, attack, attack_name)\n",
    "\n",
    "# Print summary\n",
    "print(\"\\nFinal Adversarial Attack Summary on EfficientNet-B0:\")\n",
    "for attack, (acc, success_rate, time_taken) in attack_results.items():\n",
    "    print(f\"{attack}:\")\n",
    "    print(f\" - Accuracy After Attack: {acc:.2f}%\")\n",
    "    print(f\" - Attack Success Rate: {success_rate:.2f}%\")\n",
    "    print(f\" - Time Taken: {time_taken:.2f} sec\\n\")"
   ]
  },
  {
   "cell_type": "markdown",
   "id": "94ab3316",
   "metadata": {},
   "source": [
    "## Saving Trained Models"
   ]
  },
  {
   "cell_type": "code",
   "execution_count": 16,
   "id": "54a5fced",
   "metadata": {},
   "outputs": [],
   "source": [
    "torch.save(model_vgg,\"model_vgg_adversarialtraining.pth\")\n",
    "torch.save(model_resnet,\"model_resnet_adversarialtraining_.pth\")\n",
    "torch.save(model_efficient,\"model_efficient_adversarialtraining.pth\")"
   ]
  },
  {
   "cell_type": "markdown",
   "id": "f0f2914c",
   "metadata": {},
   "source": [
    "## Load Models if needed"
   ]
  },
  {
   "cell_type": "code",
   "execution_count": null,
   "id": "9c718789",
   "metadata": {},
   "outputs": [],
   "source": [
    "model_vgg=torch.load(\"model_vgg_adversarialtraining.pth\", weights_only=False)\n",
    "model_resnet=torch.load(\"model_resnet_adversarialtraining_.pth\", weights_only=False)\n",
    "model_efficient=torch.load(\"model_efficient_adversarialtraining.pth\", weights_only=False)\n",
    "model_vgg.eval()\n",
    "model_resnet.eval()\n",
    "model_efficient.eval()\n",
    "print(\"Models loaded successfully\")"
   ]
  }
 ],
 "metadata": {
  "kernelspec": {
   "display_name": "base",
   "language": "python",
   "name": "python3"
  },
  "language_info": {
   "codemirror_mode": {
    "name": "ipython",
    "version": 3
   },
   "file_extension": ".py",
   "mimetype": "text/x-python",
   "name": "python",
   "nbconvert_exporter": "python",
   "pygments_lexer": "ipython3",
   "version": "3.9.7"
  }
 },
 "nbformat": 4,
 "nbformat_minor": 5
}
