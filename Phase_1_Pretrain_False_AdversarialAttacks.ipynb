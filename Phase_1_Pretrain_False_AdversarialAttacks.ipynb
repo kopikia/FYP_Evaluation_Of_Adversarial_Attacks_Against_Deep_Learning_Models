{
 "cells": [
  {
   "cell_type": "markdown",
   "id": "a1ebc110",
   "metadata": {
    "id": "a1ebc110"
   },
   "source": [
    "# **Adversarial Robustness of VGG-16, ResNet18, and EfficientNet-B0 on CIFAR-10**\n",
    "# **Pretrain=False, 10 epoch**"
   ]
  },
  {
   "cell_type": "markdown",
   "id": "c415ff13",
   "metadata": {},
   "source": [
    "## **1. Import Required Libraries**"
   ]
  },
  {
   "cell_type": "code",
   "execution_count": 1,
   "id": "Bje--5beHvEU",
   "metadata": {
    "colab": {
     "base_uri": "https://localhost:8080/"
    },
    "id": "Bje--5beHvEU",
    "outputId": "cd17869f-5bb4-4d56-ff4d-f4f30e4f2c33"
   },
   "outputs": [
    {
     "name": "stdout",
     "output_type": "stream",
     "text": [
      "True\n",
      "NVIDIA GeForce RTX 4060\n"
     ]
    }
   ],
   "source": [
    "import torch\n",
    "print(torch.cuda.is_available())  # Should return True if GPU is available\n",
    "print(torch.cuda.get_device_name(0))  # Should print the name of your GPU"
   ]
  },
  {
   "cell_type": "code",
   "execution_count": 4,
   "id": "ed4076d8",
   "metadata": {
    "colab": {
     "base_uri": "https://localhost:8080/"
    },
    "id": "ed4076d8",
    "outputId": "1a1b4f65-4aee-459f-ef66-ed644ae2eb8e"
   },
   "outputs": [
    {
     "name": "stdout",
     "output_type": "stream",
     "text": [
      "Using device: cuda\n"
     ]
    }
   ],
   "source": [
    "\n",
    "import torch\n",
    "import torch.nn as nn\n",
    "import torch.optim as optim\n",
    "import torchvision\n",
    "import torchvision.transforms as transforms\n",
    "import torchattacks\n",
    "import time\n",
    "import pandas as pd\n",
    "from torchvision import models\n",
    "\n",
    "# Check for GPU\n",
    "device = torch.device(\"cuda\" if torch.cuda.is_available() else \"cpu\")\n",
    "print(f'Using device: {device}')\n"
   ]
  },
  {
   "cell_type": "markdown",
   "id": "dea1e791",
   "metadata": {
    "id": "dea1e791"
   },
   "source": [
    "## **2. Load CIFAR-10 Dataset**"
   ]
  },
  {
   "cell_type": "code",
   "execution_count": 5,
   "id": "22c6b1ea",
   "metadata": {
    "id": "22c6b1ea"
   },
   "outputs": [
    {
     "name": "stderr",
     "output_type": "stream",
     "text": [
      "100%|███████████████████████████████████████████████████████████████████████████████| 170M/170M [00:23<00:00, 7.21MB/s]\n"
     ]
    }
   ],
   "source": [
    "\n",
    "# Load CIFAR-10 dataset\n",
    "transform = transforms.Compose([\n",
    "    transforms.Resize((224, 224)),  # Resize for model compatibility\n",
    "    transforms.ToTensor(),\n",
    "    transforms.Normalize((0.5,), (0.5,))\n",
    "])\n",
    "\n",
    "trainset = torchvision.datasets.CIFAR10(root='./data', train=True, download=True, transform=transform)\n",
    "trainloader = torch.utils.data.DataLoader(trainset, batch_size=32, shuffle=True)\n",
    "\n",
    "testset = torchvision.datasets.CIFAR10(root='./data', train=False, download=True, transform=transform)\n",
    "testloader = torch.utils.data.DataLoader(testset, batch_size=32, shuffle=False)\n"
   ]
  },
  {
   "cell_type": "markdown",
   "id": "350ae20f",
   "metadata": {},
   "source": [
    "# **3. Defining Models From torchvision**"
   ]
  },
  {
   "cell_type": "markdown",
   "id": "6e5c1034",
   "metadata": {
    "id": "6e5c1034"
   },
   "source": [
    "## **3.1 Define VGG-16 Model**"
   ]
  },
  {
   "cell_type": "code",
   "execution_count": 6,
   "id": "981ae432",
   "metadata": {
    "colab": {
     "base_uri": "https://localhost:8080/"
    },
    "id": "981ae432",
    "outputId": "4bf5473f-be48-46a0-dcf1-02e687ba93a3"
   },
   "outputs": [
    {
     "name": "stderr",
     "output_type": "stream",
     "text": [
      "C:\\Users\\laika\\AppData\\Local\\Programs\\Python\\Python313\\Lib\\site-packages\\torchvision\\models\\_utils.py:208: UserWarning: The parameter 'pretrained' is deprecated since 0.13 and may be removed in the future, please use 'weights' instead.\n",
      "  warnings.warn(\n",
      "C:\\Users\\laika\\AppData\\Local\\Programs\\Python\\Python313\\Lib\\site-packages\\torchvision\\models\\_utils.py:223: UserWarning: Arguments other than a weight enum or `None` for 'weights' are deprecated since 0.13 and may be removed in the future. The current behavior is equivalent to passing `weights=None`.\n",
      "  warnings.warn(msg)\n"
     ]
    }
   ],
   "source": [
    "\n",
    "# Load pre-defined VGG-16 model from torchvision\n",
    "class VGG16(nn.Module):\n",
    "    def __init__(self):\n",
    "        super(VGG16, self).__init__()\n",
    "        self.model = models.vgg16(pretrained=False)\n",
    "        num_ftrs = self.model.classifier[6].in_features\n",
    "        self.model.classifier[6] = nn.Linear(num_ftrs, 10)  # Adjust for CIFAR-10 classes\n",
    "\n",
    "    def forward(self, x):\n",
    "        return self.model(x)\n",
    "\n",
    "# Initialize model\n",
    "model_vgg = VGG16().to(device)\n",
    "criterion = nn.CrossEntropyLoss()\n",
    "optimizer_vgg = optim.Adam(model_vgg.parameters(), lr=0.001)\n"
   ]
  },
  {
   "cell_type": "markdown",
   "id": "95a81f2b",
   "metadata": {
    "id": "95a81f2b"
   },
   "source": [
    "## **3.2 Define ResNet18 Model**"
   ]
  },
  {
   "cell_type": "code",
   "execution_count": 7,
   "id": "73dd9b80",
   "metadata": {
    "id": "73dd9b80"
   },
   "outputs": [],
   "source": [
    "\n",
    "# Load pre-defined ResNet18 model from torchvision\n",
    "class ResNet18(nn.Module):\n",
    "    def __init__(self):\n",
    "        super(ResNet18, self).__init__()\n",
    "        self.model = models.resnet18(pretrained=False)\n",
    "        num_ftrs = self.model.fc.in_features\n",
    "        self.model.fc = nn.Linear(num_ftrs, 10)  # Adjust for CIFAR-10 classes\n",
    "\n",
    "    def forward(self, x):\n",
    "        return self.model(x)\n",
    "\n",
    "# Initialize model\n",
    "model_resnet = ResNet18().to(device)\n",
    "optimizer_resnet = optim.Adam(model_resnet.parameters(), lr=0.001)\n"
   ]
  },
  {
   "cell_type": "markdown",
   "id": "981c82d4",
   "metadata": {
    "id": "981c82d4"
   },
   "source": [
    "## **3.3 Define EfficientNet-B0 Model**"
   ]
  },
  {
   "cell_type": "code",
   "execution_count": 8,
   "id": "5e4a2902",
   "metadata": {
    "id": "5e4a2902"
   },
   "outputs": [],
   "source": [
    "\n",
    "# Load pre-defined EfficientNet-B0 model from torchvision\n",
    "class EfficientNetB0(nn.Module):\n",
    "    def __init__(self):\n",
    "        super(EfficientNetB0, self).__init__()\n",
    "        self.model = models.efficientnet_b0(pretrained=False)\n",
    "        num_ftrs = self.model.classifier[1].in_features\n",
    "        self.model.classifier[1] = nn.Linear(num_ftrs, 10)  # Adjust for CIFAR-10 classes\n",
    "\n",
    "    def forward(self, x):\n",
    "        return self.model(x)\n",
    "\n",
    "# Initialize model\n",
    "model_efficient = EfficientNetB0().to(device)\n",
    "optimizer_efficient = optim.Adam(model_efficient.parameters(), lr=0.001)\n"
   ]
  },
  {
   "cell_type": "markdown",
   "id": "401a76bf",
   "metadata": {
    "id": "401a76bf"
   },
   "source": [
    "# **4. Train the Models**"
   ]
  },
  {
   "cell_type": "code",
   "execution_count": 9,
   "id": "85f259eb",
   "metadata": {
    "colab": {
     "base_uri": "https://localhost:8080/"
    },
    "id": "85f259eb",
    "outputId": "596dc0ca-f9d3-4cfb-a76a-f8b65ee2d29d",
    "scrolled": true
   },
   "outputs": [
    {
     "name": "stdout",
     "output_type": "stream",
     "text": [
      "Training VGG-16...\n",
      "VGG-16 - Epoch 1, Loss: 2.4705\n",
      "VGG-16 - Epoch 2, Loss: 2.3029\n",
      "VGG-16 - Epoch 3, Loss: 2.3028\n",
      "VGG-16 - Epoch 4, Loss: 2.3028\n",
      "VGG-16 - Epoch 5, Loss: 2.3028\n",
      "VGG-16 - Epoch 6, Loss: 2.3028\n",
      "VGG-16 - Epoch 7, Loss: 2.3028\n",
      "VGG-16 - Epoch 8, Loss: 2.3028\n",
      "VGG-16 - Epoch 9, Loss: 2.3028\n",
      "VGG-16 - Epoch 10, Loss: 2.3028\n",
      "Training ResNet18...\n",
      "ResNet18 - Epoch 1, Loss: 1.3345\n",
      "ResNet18 - Epoch 2, Loss: 0.8050\n",
      "ResNet18 - Epoch 3, Loss: 0.6128\n",
      "ResNet18 - Epoch 4, Loss: 0.4907\n",
      "ResNet18 - Epoch 5, Loss: 0.3834\n",
      "ResNet18 - Epoch 6, Loss: 0.2876\n",
      "ResNet18 - Epoch 7, Loss: 0.2106\n",
      "ResNet18 - Epoch 8, Loss: 0.1491\n",
      "ResNet18 - Epoch 9, Loss: 0.1171\n",
      "ResNet18 - Epoch 10, Loss: 0.0819\n",
      "Training EfficientNet-B0...\n",
      "EfficientNet-B0 - Epoch 1, Loss: 1.4905\n",
      "EfficientNet-B0 - Epoch 2, Loss: 0.9091\n",
      "EfficientNet-B0 - Epoch 3, Loss: 0.6575\n",
      "EfficientNet-B0 - Epoch 4, Loss: 0.5278\n",
      "EfficientNet-B0 - Epoch 5, Loss: 0.4445\n",
      "EfficientNet-B0 - Epoch 6, Loss: 0.3807\n",
      "EfficientNet-B0 - Epoch 7, Loss: 0.3203\n",
      "EfficientNet-B0 - Epoch 8, Loss: 0.2799\n",
      "EfficientNet-B0 - Epoch 9, Loss: 0.2405\n",
      "EfficientNet-B0 - Epoch 10, Loss: 0.2089\n"
     ]
    }
   ],
   "source": [
    "\n",
    "# Training function\n",
    "def train_model(model, optimizer, model_name, epochs=10):\n",
    "    model.train()\n",
    "    for epoch in range(epochs):\n",
    "        running_loss = 0.0\n",
    "        for images, labels in trainloader:\n",
    "            images, labels = images.to(device), labels.to(device)\n",
    "            optimizer.zero_grad()\n",
    "            outputs = model(images)\n",
    "            loss = criterion(outputs, labels)\n",
    "            loss.backward()\n",
    "            optimizer.step()\n",
    "            running_loss += loss.item()\n",
    "\n",
    "        print(f\"{model_name} - Epoch {epoch+1}, Loss: {running_loss/len(trainloader):.4f}\")\n",
    "\n",
    "print(\"Training VGG-16...\")\n",
    "train_model(model_vgg, optimizer_vgg, \"VGG-16\")\n",
    "\n",
    "print(\"Training ResNet18...\")\n",
    "train_model(model_resnet, optimizer_resnet, \"ResNet18\")\n",
    "\n",
    "print(\"Training EfficientNet-B0...\")\n",
    "train_model(model_efficient, optimizer_efficient, \"EfficientNet-B0\")\n"
   ]
  },
  {
   "cell_type": "markdown",
   "id": "237e8b0b",
   "metadata": {
    "id": "237e8b0b"
   },
   "source": [
    "# **5. Evaluate Model Accuracy on Clean Test Images**"
   ]
  },
  {
   "cell_type": "code",
   "execution_count": 10,
   "id": "7135fe12",
   "metadata": {
    "id": "7135fe12"
   },
   "outputs": [
    {
     "name": "stdout",
     "output_type": "stream",
     "text": [
      "VGG-16 Accuracy on clean test images: 10.00%\n",
      "ResNet18 Accuracy on clean test images: 84.25%\n",
      "EfficientNet-B0 Accuracy on clean test images: 86.60%\n"
     ]
    }
   ],
   "source": [
    "\n",
    "# Evaluation function\n",
    "def test_model(model, dataloader, model_name):\n",
    "    model.eval()\n",
    "    correct = 0\n",
    "    total = 0\n",
    "    with torch.no_grad():\n",
    "        for images, labels in dataloader:\n",
    "            images, labels = images.to(device), labels.to(device)\n",
    "            outputs = model(images)\n",
    "            _, predicted = torch.max(outputs.data, 1)\n",
    "            total += labels.size(0)\n",
    "            correct += (predicted == labels).sum().item()\n",
    "\n",
    "    accuracy = 100 * correct / total\n",
    "    print(f'{model_name} Accuracy on clean test images: {accuracy:.2f}%')\n",
    "    return accuracy\n",
    "\n",
    "clean_accuracy_vgg = test_model(model_vgg, testloader, \"VGG-16\")\n",
    "clean_accuracy_resnet = test_model(model_resnet, testloader, \"ResNet18\")\n",
    "clean_accuracy_efficient = test_model(model_efficient, testloader, \"EfficientNet-B0\")\n"
   ]
  },
  {
   "cell_type": "markdown",
   "id": "8203902c",
   "metadata": {},
   "source": [
    "# **6. Setting up for evaluating Adversarial attacks**"
   ]
  },
  {
   "cell_type": "code",
   "execution_count": 12,
   "id": "bb28f3e6",
   "metadata": {
    "id": "bb28f3e6"
   },
   "outputs": [],
   "source": [
    "# Function to evaluate adversarial attacks\n",
    "def test_adversarial_attack(model, attack, attack_name):\n",
    "    model.eval()\n",
    "    correct = 0\n",
    "    total = 0\n",
    "    success_count = 0\n",
    "    start_time = time.time()\n",
    "\n",
    "    for images, labels in testloader:\n",
    "        images, labels = images.to(device), labels.to(device)\n",
    "        adv_images = attack(images, labels)\n",
    "        outputs = model(adv_images)\n",
    "        _, predicted = torch.max(outputs.data, 1)\n",
    "\n",
    "        total += labels.size(0)\n",
    "        correct += (predicted == labels).sum().item()\n",
    "        success_count += (predicted != labels).sum().item()\n",
    "\n",
    "    end_time = time.time()\n",
    "    attack_time = end_time - start_time\n",
    "    attack_accuracy = 100 * correct / total\n",
    "    attack_success_rate = 100 * success_count / total\n",
    "\n",
    "    print(f'{attack_name} Attack Results:')\n",
    "    print(f' - Accuracy after attack: {attack_accuracy:.2f}%')\n",
    "    print(f' - Attack Success Rate: {attack_success_rate:.2f}%')\n",
    "    print(f' - Time Taken: {attack_time:.2f} seconds\\n')\n",
    "\n",
    "    return attack_accuracy, attack_success_rate, attack_time"
   ]
  },
  {
   "cell_type": "markdown",
   "id": "39a5a50d",
   "metadata": {
    "id": "39a5a50d"
   },
   "source": [
    "# **6.1 Evaluating Adversarial Robustness of VGG-16**"
   ]
  },
  {
   "cell_type": "code",
   "execution_count": 11,
   "id": "90a964c2",
   "metadata": {
    "id": "90a964c2"
   },
   "outputs": [],
   "source": [
    "# Define adversarial attacks\n",
    "attacks = {\n",
    "    \"FGSM\": torchattacks.FGSM(model_vgg, eps=0.03),\n",
    "    \"PGD\": torchattacks.PGD(model_vgg, eps=0.03, alpha=0.01, steps=40),\n",
    "    \"DeepFool\": torchattacks.DeepFool(model_vgg, steps=50),\n",
    "    \"BIM\": torchattacks.BIM(model_vgg, eps=0.03, alpha=0.01, steps=10),\n",
    "    \"C&W\": torchattacks.CW(model_vgg, c=1, kappa=0, steps=100, lr=0.01)\n",
    "}"
   ]
  },
  {
   "cell_type": "code",
   "execution_count": 13,
   "id": "77973ea1",
   "metadata": {
    "id": "77973ea1"
   },
   "outputs": [
    {
     "name": "stdout",
     "output_type": "stream",
     "text": [
      "FGSM Attack Results:\n",
      " - Accuracy after attack: 10.00%\n",
      " - Attack Success Rate: 90.00%\n",
      " - Time Taken: 160.22 seconds\n",
      "\n",
      "PGD Attack Results:\n",
      " - Accuracy after attack: 10.00%\n",
      " - Attack Success Rate: 90.00%\n",
      " - Time Taken: 11968.83 seconds\n",
      "\n",
      "DeepFool Attack Results:\n",
      " - Accuracy after attack: 0.00%\n",
      " - Attack Success Rate: 100.00%\n",
      " - Time Taken: 628.24 seconds\n",
      "\n",
      "BIM Attack Results:\n",
      " - Accuracy after attack: 10.00%\n",
      " - Attack Success Rate: 90.00%\n",
      " - Time Taken: 1357.61 seconds\n",
      "\n",
      "C&W Attack Results:\n",
      " - Accuracy after attack: 10.00%\n",
      " - Attack Success Rate: 90.00%\n",
      " - Time Taken: 27703.64 seconds\n",
      "\n",
      "\n",
      "Final Adversarial Attack Summary:\n",
      "FGSM:\n",
      " - Accuracy After Attack: 10.00%\n",
      " - Attack Success Rate: 90.00%\n",
      " - Time Taken: 160.22 sec\n",
      "\n",
      "PGD:\n",
      " - Accuracy After Attack: 10.00%\n",
      " - Attack Success Rate: 90.00%\n",
      " - Time Taken: 11968.83 sec\n",
      "\n",
      "DeepFool:\n",
      " - Accuracy After Attack: 0.00%\n",
      " - Attack Success Rate: 100.00%\n",
      " - Time Taken: 628.24 sec\n",
      "\n",
      "BIM:\n",
      " - Accuracy After Attack: 10.00%\n",
      " - Attack Success Rate: 90.00%\n",
      " - Time Taken: 1357.61 sec\n",
      "\n",
      "C&W:\n",
      " - Accuracy After Attack: 10.00%\n",
      " - Attack Success Rate: 90.00%\n",
      " - Time Taken: 27703.64 sec\n",
      "\n"
     ]
    }
   ],
   "source": [
    "# Run attacks and collect results\n",
    "attack_results = {}\n",
    "\n",
    "for attack_name, attack in attacks.items():\n",
    "    attack_results[attack_name] = test_adversarial_attack(model_vgg, attack, attack_name)\n",
    "\n",
    "# Print summary\n",
    "print(\"\\nFinal Adversarial Attack Summary:\")\n",
    "for attack, (acc, success_rate, time_taken) in attack_results.items():\n",
    "    print(f\"{attack}:\")\n",
    "    print(f\" - Accuracy After Attack: {acc:.2f}%\")\n",
    "    print(f\" - Attack Success Rate: {success_rate:.2f}%\")\n",
    "    print(f\" - Time Taken: {time_taken:.2f} sec\\n\")"
   ]
  },
  {
   "cell_type": "markdown",
   "id": "6887573b",
   "metadata": {},
   "source": [
    "# **6.2 Evaluating Adversarial Robustness of ResNet18**"
   ]
  },
  {
   "cell_type": "code",
   "execution_count": 19,
   "id": "41cd08b5-0552-416f-b7bb-f00bb1e1a42d",
   "metadata": {},
   "outputs": [],
   "source": [
    "# Define adversarial attacks\n",
    "attacks = {\n",
    "    \"FGSM\": torchattacks.FGSM(model_resnet, eps=0.03),\n",
    "    \"PGD\": torchattacks.PGD(model_resnet, eps=0.03, alpha=0.01, steps=40),\n",
    "    \"DeepFool\": torchattacks.DeepFool(model_resnet, steps=50),\n",
    "    \"BIM\": torchattacks.BIM(model_resnet, eps=0.03, alpha=0.01, steps=10),\n",
    "    \"C&W\": torchattacks.CW(model_resnet, c=1, kappa=0, steps=100, lr=0.01)\n",
    "}"
   ]
  },
  {
   "cell_type": "code",
   "execution_count": 20,
   "id": "354fbbdc-30d8-43d5-85cf-8bf43231290a",
   "metadata": {},
   "outputs": [
    {
     "name": "stdout",
     "output_type": "stream",
     "text": [
      "FGSM Attack Results:\n",
      " - Accuracy after attack: 10.66%\n",
      " - Attack Success Rate: 89.34%\n",
      " - Time Taken: 23.85 seconds\n",
      "\n",
      "PGD Attack Results:\n",
      " - Accuracy after attack: 0.34%\n",
      " - Attack Success Rate: 99.66%\n",
      " - Time Taken: 527.25 seconds\n",
      "\n",
      "DeepFool Attack Results:\n",
      " - Accuracy after attack: 14.37%\n",
      " - Attack Success Rate: 85.63%\n",
      " - Time Taken: 29661.24 seconds\n",
      "\n",
      "BIM Attack Results:\n",
      " - Accuracy after attack: 6.83%\n",
      " - Attack Success Rate: 93.17%\n",
      " - Time Taken: 144.56 seconds\n",
      "\n",
      "C&W Attack Results:\n",
      " - Accuracy after attack: 2.14%\n",
      " - Attack Success Rate: 97.86%\n",
      " - Time Taken: 1142.75 seconds\n",
      "\n",
      "\n",
      "Final Adversarial Attack Summary on ResNet18:\n",
      "FGSM:\n",
      " - Accuracy After Attack: 10.66%\n",
      " - Attack Success Rate: 89.34%\n",
      " - Time Taken: 23.85 sec\n",
      "\n",
      "PGD:\n",
      " - Accuracy After Attack: 0.34%\n",
      " - Attack Success Rate: 99.66%\n",
      " - Time Taken: 527.25 sec\n",
      "\n",
      "DeepFool:\n",
      " - Accuracy After Attack: 14.37%\n",
      " - Attack Success Rate: 85.63%\n",
      " - Time Taken: 29661.24 sec\n",
      "\n",
      "BIM:\n",
      " - Accuracy After Attack: 6.83%\n",
      " - Attack Success Rate: 93.17%\n",
      " - Time Taken: 144.56 sec\n",
      "\n",
      "C&W:\n",
      " - Accuracy After Attack: 2.14%\n",
      " - Attack Success Rate: 97.86%\n",
      " - Time Taken: 1142.75 sec\n",
      "\n"
     ]
    }
   ],
   "source": [
    "# ReRun Resnet attacks and collect results\n",
    "attack_results = {}\n",
    "\n",
    "for attack_name, attack in attacks.items():\n",
    "    attack_results[attack_name] = test_adversarial_attack(model_resnet, attack, attack_name)\n",
    "\n",
    "# Print summary\n",
    "print(\"\\nFinal Adversarial Attack Summary on ResNet18:\")\n",
    "for attack, (acc, success_rate, time_taken) in attack_results.items():\n",
    "    print(f\"{attack}:\")\n",
    "    print(f\" - Accuracy After Attack: {acc:.2f}%\")\n",
    "    print(f\" - Attack Success Rate: {success_rate:.2f}%\")\n",
    "    print(f\" - Time Taken: {time_taken:.2f} sec\\n\")"
   ]
  },
  {
   "cell_type": "markdown",
   "id": "99af49c8",
   "metadata": {},
   "source": [
    "# **6.3 Evaluating Adversarial Robustness of EfficientNet-B0**"
   ]
  },
  {
   "cell_type": "code",
   "execution_count": 21,
   "id": "f03c479d-4447-47c3-8684-37275517e1a3",
   "metadata": {},
   "outputs": [],
   "source": [
    "# Define adversarial attacks\n",
    "attacks = {\n",
    "    \"FGSM\": torchattacks.FGSM(model_efficient, eps=0.03),\n",
    "    \"PGD\": torchattacks.PGD(model_efficient, eps=0.03, alpha=0.01, steps=40),\n",
    "    \"DeepFool\": torchattacks.DeepFool(model_efficient, steps=50),\n",
    "    \"BIM\": torchattacks.BIM(model_efficient, eps=0.03, alpha=0.01, steps=10),\n",
    "    \"C&W\": torchattacks.CW(model_efficient, c=1, kappa=0, steps=100, lr=0.01)\n",
    "}"
   ]
  },
  {
   "cell_type": "code",
   "execution_count": 22,
   "id": "ffeacf31-2056-47ba-b5ae-a5af699d4fac",
   "metadata": {},
   "outputs": [
    {
     "name": "stdout",
     "output_type": "stream",
     "text": [
      "FGSM Attack Results:\n",
      " - Accuracy after attack: 12.84%\n",
      " - Attack Success Rate: 87.16%\n",
      " - Time Taken: 231.91 seconds\n",
      "\n",
      "PGD Attack Results:\n",
      " - Accuracy after attack: 0.00%\n",
      " - Attack Success Rate: 100.00%\n",
      " - Time Taken: 6407.64 seconds\n",
      "\n",
      "DeepFool Attack Results:\n",
      " - Accuracy after attack: 14.09%\n",
      " - Attack Success Rate: 85.91%\n",
      " - Time Taken: 6539.50 seconds\n",
      "\n",
      "BIM Attack Results:\n",
      " - Accuracy after attack: 2.55%\n",
      " - Attack Success Rate: 97.45%\n",
      " - Time Taken: 1818.97 seconds\n",
      "\n",
      "C&W Attack Results:\n",
      " - Accuracy after attack: 0.01%\n",
      " - Attack Success Rate: 99.99%\n",
      " - Time Taken: 14381.82 seconds\n",
      "\n",
      "\n",
      "Final Adversarial Attack Summary on EfficientNet-B0:\n",
      "FGSM:\n",
      " - Accuracy After Attack: 12.84%\n",
      " - Attack Success Rate: 87.16%\n",
      " - Time Taken: 231.91 sec\n",
      "\n",
      "PGD:\n",
      " - Accuracy After Attack: 0.00%\n",
      " - Attack Success Rate: 100.00%\n",
      " - Time Taken: 6407.64 sec\n",
      "\n",
      "DeepFool:\n",
      " - Accuracy After Attack: 14.09%\n",
      " - Attack Success Rate: 85.91%\n",
      " - Time Taken: 6539.50 sec\n",
      "\n",
      "BIM:\n",
      " - Accuracy After Attack: 2.55%\n",
      " - Attack Success Rate: 97.45%\n",
      " - Time Taken: 1818.97 sec\n",
      "\n",
      "C&W:\n",
      " - Accuracy After Attack: 0.01%\n",
      " - Attack Success Rate: 99.99%\n",
      " - Time Taken: 14381.82 sec\n",
      "\n"
     ]
    }
   ],
   "source": [
    "# ReRun attacks and collect results\n",
    "attack_results = {}\n",
    "\n",
    "for attack_name, attack in attacks.items():\n",
    "    attack_results[attack_name] = test_adversarial_attack(model_efficient, attack, attack_name)\n",
    "\n",
    "# Print summary\n",
    "print(\"\\nFinal Adversarial Attack Summary on EfficientNet-B0:\")\n",
    "for attack, (acc, success_rate, time_taken) in attack_results.items():\n",
    "    print(f\"{attack}:\")\n",
    "    print(f\" - Accuracy After Attack: {acc:.2f}%\")\n",
    "    print(f\" - Attack Success Rate: {success_rate:.2f}%\")\n",
    "    print(f\" - Time Taken: {time_taken:.2f} sec\\n\")"
   ]
  }
 ],
 "metadata": {
  "accelerator": "GPU",
  "colab": {
   "gpuType": "T4",
   "provenance": []
  },
  "kernelspec": {
   "display_name": "Python 3 (ipykernel)",
   "language": "python",
   "name": "python3"
  },
  "language_info": {
   "codemirror_mode": {
    "name": "ipython",
    "version": 3
   },
   "file_extension": ".py",
   "mimetype": "text/x-python",
   "name": "python",
   "nbconvert_exporter": "python",
   "pygments_lexer": "ipython3",
   "version": "3.13.2"
  }
 },
 "nbformat": 4,
 "nbformat_minor": 5
}
